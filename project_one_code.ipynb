{
 "cells": [
  {
   "cell_type": "markdown",
   "metadata": {},
   "source": [
    "## Final Project Submission\n",
    "\n",
    "Please fill out:\n",
    "* Student name: Ramil Chaimongkolbutr\n",
    "* Student pace: full time\n",
    "* Scheduled project review date/time: \n",
    "* Instructor name: Max Barry\n",
    "* Blog post URL: https://ramil-ming.medium.com/\n"
   ]
  },
  {
   "cell_type": "code",
   "execution_count": 1,
   "metadata": {},
   "outputs": [],
   "source": [
    "# Your code here - remember to use markdown cells for comments as well!"
   ]
  },
  {
   "cell_type": "markdown",
   "metadata": {},
   "source": [
    "# Getting Data"
   ]
  },
  {
   "cell_type": "code",
   "execution_count": 2,
   "metadata": {},
   "outputs": [],
   "source": [
    "import pandas as pd\n",
    "import numpy as np\n",
    "import matplotlib.pyplot as plt\n",
    "import matplotlib.ticker as mtick\n",
    "\n",
    "%matplotlib inline"
   ]
  },
  {
   "cell_type": "markdown",
   "metadata": {},
   "source": [
    "# Importing and Exploring Data Set"
   ]
  },
  {
   "cell_type": "markdown",
   "metadata": {},
   "source": [
    "File: tn.movie_budgets.csv.gz"
   ]
  },
  {
   "cell_type": "code",
   "execution_count": 3,
   "metadata": {},
   "outputs": [
    {
     "name": "stdout",
     "output_type": "stream",
     "text": [
      "<class 'pandas.core.frame.DataFrame'>\n",
      "RangeIndex: 5782 entries, 0 to 5781\n",
      "Data columns (total 6 columns):\n",
      " #   Column             Non-Null Count  Dtype \n",
      "---  ------             --------------  ----- \n",
      " 0   id                 5782 non-null   int64 \n",
      " 1   release_date       5782 non-null   object\n",
      " 2   movie              5782 non-null   object\n",
      " 3   production_budget  5782 non-null   object\n",
      " 4   domestic_gross     5782 non-null   object\n",
      " 5   worldwide_gross    5782 non-null   object\n",
      "dtypes: int64(1), object(5)\n",
      "memory usage: 271.2+ KB\n"
     ]
    }
   ],
   "source": [
    "budgets = pd.read_csv('zippedData/tn.movie_budgets.csv.gz', compression='gzip',\n",
    "                   error_bad_lines=False)\n",
    "budgets.info()"
   ]
  },
  {
   "cell_type": "markdown",
   "metadata": {},
   "source": [
    "File: tmdb.movies.csv.gz"
   ]
  },
  {
   "cell_type": "code",
   "execution_count": 4,
   "metadata": {},
   "outputs": [],
   "source": [
    "tmdb = pd.read_csv('zippedData/tmdb.movies.csv.gz', compression='gzip',\n",
    "                   error_bad_lines=False)"
   ]
  },
  {
   "cell_type": "markdown",
   "metadata": {},
   "source": [
    "File: rt.reviews.tsv.gz"
   ]
  },
  {
   "cell_type": "code",
   "execution_count": 5,
   "metadata": {},
   "outputs": [],
   "source": [
    "reviews = pd.read_csv('zippedData/rt.reviews.tsv.gz', sep='\\t', encoding='iso8859_1')"
   ]
  },
  {
   "cell_type": "markdown",
   "metadata": {},
   "source": [
    "File: rt.movie_info.tsv.gz"
   ]
  },
  {
   "cell_type": "code",
   "execution_count": 6,
   "metadata": {},
   "outputs": [],
   "source": [
    "movie_info = pd.read_csv('zippedData/rt.movie_info.tsv.gz', sep='\\t', encoding='iso8859_1')"
   ]
  },
  {
   "cell_type": "markdown",
   "metadata": {},
   "source": [
    "File: imdb.title.ratings.csv.gz"
   ]
  },
  {
   "cell_type": "code",
   "execution_count": 7,
   "metadata": {},
   "outputs": [],
   "source": [
    "rating = pd.read_csv('zippedData/imdb.title.ratings.csv.gz', compression='gzip', error_bad_lines=False)"
   ]
  },
  {
   "cell_type": "markdown",
   "metadata": {},
   "source": [
    "File: imdb.title.principals.csv.gz"
   ]
  },
  {
   "cell_type": "code",
   "execution_count": 8,
   "metadata": {},
   "outputs": [],
   "source": [
    "princ = pd.read_csv('zippedData/imdb.title.principals.csv.gz', compression='gzip', error_bad_lines=False)"
   ]
  },
  {
   "cell_type": "markdown",
   "metadata": {},
   "source": [
    "File: imdb.title.crew.csv.gz"
   ]
  },
  {
   "cell_type": "code",
   "execution_count": 9,
   "metadata": {},
   "outputs": [],
   "source": [
    "crew = pd.read_csv('zippedData/imdb.title.crew.csv.gz', compression='gzip', error_bad_lines=False)"
   ]
  },
  {
   "cell_type": "markdown",
   "metadata": {},
   "source": [
    "File: imdb.title.basics.csv.gz"
   ]
  },
  {
   "cell_type": "code",
   "execution_count": 10,
   "metadata": {},
   "outputs": [],
   "source": [
    "basics = pd.read_csv('zippedData/imdb.title.basics.csv.gz', compression='gzip', error_bad_lines=False)"
   ]
  },
  {
   "cell_type": "markdown",
   "metadata": {},
   "source": [
    "File: imdb.title.akas.csv.gz"
   ]
  },
  {
   "cell_type": "code",
   "execution_count": 11,
   "metadata": {},
   "outputs": [],
   "source": [
    "akas = pd.read_csv('zippedData/imdb.title.akas.csv.gz', compression='gzip', error_bad_lines=False)"
   ]
  },
  {
   "cell_type": "markdown",
   "metadata": {},
   "source": [
    "File: imdb.name.basics.csv.gz"
   ]
  },
  {
   "cell_type": "code",
   "execution_count": 12,
   "metadata": {},
   "outputs": [],
   "source": [
    "name_basics = pd.read_csv('zippedData/imdb.name.basics.csv.gz', compression='gzip', error_bad_lines=False)"
   ]
  },
  {
   "cell_type": "markdown",
   "metadata": {},
   "source": [
    "File: bom.movie_gross.csv.gz"
   ]
  },
  {
   "cell_type": "code",
   "execution_count": 13,
   "metadata": {},
   "outputs": [
    {
     "name": "stdout",
     "output_type": "stream",
     "text": [
      "<class 'pandas.core.frame.DataFrame'>\n",
      "RangeIndex: 3387 entries, 0 to 3386\n",
      "Data columns (total 5 columns):\n",
      " #   Column          Non-Null Count  Dtype  \n",
      "---  ------          --------------  -----  \n",
      " 0   title           3387 non-null   object \n",
      " 1   studio          3382 non-null   object \n",
      " 2   domestic_gross  3359 non-null   float64\n",
      " 3   foreign_gross   2037 non-null   object \n",
      " 4   year            3387 non-null   int64  \n",
      "dtypes: float64(1), int64(1), object(3)\n",
      "memory usage: 132.4+ KB\n"
     ]
    }
   ],
   "source": [
    "gross = pd.read_csv('zippedData/bom.movie_gross.csv.gz', compression='gzip', error_bad_lines=False)\n",
    "gross.info()"
   ]
  },
  {
   "cell_type": "markdown",
   "metadata": {},
   "source": [
    "# Total revenue generated by genre\n",
    "\n"
   ]
  },
  {
   "cell_type": "markdown",
   "metadata": {},
   "source": [
    "**Assign the data set to a dataframe variable and explore.**"
   ]
  },
  {
   "cell_type": "code",
   "execution_count": 14,
   "metadata": {},
   "outputs": [
    {
     "name": "stdout",
     "output_type": "stream",
     "text": [
      "<class 'pandas.core.frame.DataFrame'>\n",
      "RangeIndex: 3387 entries, 0 to 3386\n",
      "Data columns (total 5 columns):\n",
      " #   Column          Non-Null Count  Dtype  \n",
      "---  ------          --------------  -----  \n",
      " 0   title           3387 non-null   object \n",
      " 1   studio          3382 non-null   object \n",
      " 2   domestic_gross  3359 non-null   float64\n",
      " 3   foreign_gross   2037 non-null   object \n",
      " 4   year            3387 non-null   int64  \n",
      "dtypes: float64(1), int64(1), object(3)\n",
      "memory usage: 132.4+ KB\n",
      "None\n"
     ]
    },
    {
     "data": {
      "text/html": [
       "<div>\n",
       "<style scoped>\n",
       "    .dataframe tbody tr th:only-of-type {\n",
       "        vertical-align: middle;\n",
       "    }\n",
       "\n",
       "    .dataframe tbody tr th {\n",
       "        vertical-align: top;\n",
       "    }\n",
       "\n",
       "    .dataframe thead th {\n",
       "        text-align: right;\n",
       "    }\n",
       "</style>\n",
       "<table border=\"1\" class=\"dataframe\">\n",
       "  <thead>\n",
       "    <tr style=\"text-align: right;\">\n",
       "      <th></th>\n",
       "      <th>title</th>\n",
       "      <th>studio</th>\n",
       "      <th>domestic_gross</th>\n",
       "      <th>foreign_gross</th>\n",
       "      <th>year</th>\n",
       "    </tr>\n",
       "  </thead>\n",
       "  <tbody>\n",
       "    <tr>\n",
       "      <th>0</th>\n",
       "      <td>Toy Story 3</td>\n",
       "      <td>BV</td>\n",
       "      <td>415000000.0</td>\n",
       "      <td>652000000</td>\n",
       "      <td>2010</td>\n",
       "    </tr>\n",
       "    <tr>\n",
       "      <th>1</th>\n",
       "      <td>Alice in Wonderland (2010)</td>\n",
       "      <td>BV</td>\n",
       "      <td>334200000.0</td>\n",
       "      <td>691300000</td>\n",
       "      <td>2010</td>\n",
       "    </tr>\n",
       "    <tr>\n",
       "      <th>2</th>\n",
       "      <td>Harry Potter and the Deathly Hallows Part 1</td>\n",
       "      <td>WB</td>\n",
       "      <td>296000000.0</td>\n",
       "      <td>664300000</td>\n",
       "      <td>2010</td>\n",
       "    </tr>\n",
       "    <tr>\n",
       "      <th>3</th>\n",
       "      <td>Inception</td>\n",
       "      <td>WB</td>\n",
       "      <td>292600000.0</td>\n",
       "      <td>535700000</td>\n",
       "      <td>2010</td>\n",
       "    </tr>\n",
       "    <tr>\n",
       "      <th>4</th>\n",
       "      <td>Shrek Forever After</td>\n",
       "      <td>P/DW</td>\n",
       "      <td>238700000.0</td>\n",
       "      <td>513900000</td>\n",
       "      <td>2010</td>\n",
       "    </tr>\n",
       "  </tbody>\n",
       "</table>\n",
       "</div>"
      ],
      "text/plain": [
       "                                         title studio  domestic_gross  \\\n",
       "0                                  Toy Story 3     BV     415000000.0   \n",
       "1                   Alice in Wonderland (2010)     BV     334200000.0   \n",
       "2  Harry Potter and the Deathly Hallows Part 1     WB     296000000.0   \n",
       "3                                    Inception     WB     292600000.0   \n",
       "4                          Shrek Forever After   P/DW     238700000.0   \n",
       "\n",
       "  foreign_gross  year  \n",
       "0     652000000  2010  \n",
       "1     691300000  2010  \n",
       "2     664300000  2010  \n",
       "3     535700000  2010  \n",
       "4     513900000  2010  "
      ]
     },
     "execution_count": 14,
     "metadata": {},
     "output_type": "execute_result"
    }
   ],
   "source": [
    "gross = pd.read_csv('zippedData/bom.movie_gross.csv.gz', compression='gzip', error_bad_lines=False)\n",
    "print(gross.info())\n",
    "gross.head()"
   ]
  },
  {
   "cell_type": "markdown",
   "metadata": {},
   "source": [
    "**Create a column for total gross which is a total revenue that we want.**"
   ]
  },
  {
   "cell_type": "code",
   "execution_count": 15,
   "metadata": {},
   "outputs": [],
   "source": [
    "gross['foreign_gross'] = pd.to_numeric(gross['foreign_gross'],errors='coerce')"
   ]
  },
  {
   "cell_type": "code",
   "execution_count": 16,
   "metadata": {},
   "outputs": [],
   "source": [
    "gross['total_gross'] = gross['domestic_gross'] + gross['foreign_gross']"
   ]
  },
  {
   "cell_type": "markdown",
   "metadata": {},
   "source": [
    "**Assign the dataframe to new variable to start working with it** \n",
    "    - 100 movies are good enough "
   ]
  },
  {
   "cell_type": "code",
   "execution_count": 17,
   "metadata": {},
   "outputs": [],
   "source": [
    "working = gross.sort_values('total_gross', ascending=False)[:100]"
   ]
  },
  {
   "cell_type": "markdown",
   "metadata": {},
   "source": [
    "**Import another dataset that includes \"genre\" column**"
   ]
  },
  {
   "cell_type": "code",
   "execution_count": 18,
   "metadata": {
    "scrolled": true
   },
   "outputs": [
    {
     "name": "stdout",
     "output_type": "stream",
     "text": [
      "<class 'pandas.core.frame.DataFrame'>\n",
      "RangeIndex: 146144 entries, 0 to 146143\n",
      "Data columns (total 6 columns):\n",
      " #   Column           Non-Null Count   Dtype  \n",
      "---  ------           --------------   -----  \n",
      " 0   tconst           146144 non-null  object \n",
      " 1   primary_title    146144 non-null  object \n",
      " 2   original_title   146123 non-null  object \n",
      " 3   start_year       146144 non-null  int64  \n",
      " 4   runtime_minutes  114405 non-null  float64\n",
      " 5   genres           140736 non-null  object \n",
      "dtypes: float64(1), int64(1), object(4)\n",
      "memory usage: 6.7+ MB\n",
      "None\n"
     ]
    },
    {
     "data": {
      "text/html": [
       "<div>\n",
       "<style scoped>\n",
       "    .dataframe tbody tr th:only-of-type {\n",
       "        vertical-align: middle;\n",
       "    }\n",
       "\n",
       "    .dataframe tbody tr th {\n",
       "        vertical-align: top;\n",
       "    }\n",
       "\n",
       "    .dataframe thead th {\n",
       "        text-align: right;\n",
       "    }\n",
       "</style>\n",
       "<table border=\"1\" class=\"dataframe\">\n",
       "  <thead>\n",
       "    <tr style=\"text-align: right;\">\n",
       "      <th></th>\n",
       "      <th>tconst</th>\n",
       "      <th>primary_title</th>\n",
       "      <th>original_title</th>\n",
       "      <th>start_year</th>\n",
       "      <th>runtime_minutes</th>\n",
       "      <th>genres</th>\n",
       "    </tr>\n",
       "  </thead>\n",
       "  <tbody>\n",
       "    <tr>\n",
       "      <th>0</th>\n",
       "      <td>tt0063540</td>\n",
       "      <td>Sunghursh</td>\n",
       "      <td>Sunghursh</td>\n",
       "      <td>2013</td>\n",
       "      <td>175.0</td>\n",
       "      <td>Action,Crime,Drama</td>\n",
       "    </tr>\n",
       "    <tr>\n",
       "      <th>1</th>\n",
       "      <td>tt0066787</td>\n",
       "      <td>One Day Before the Rainy Season</td>\n",
       "      <td>Ashad Ka Ek Din</td>\n",
       "      <td>2019</td>\n",
       "      <td>114.0</td>\n",
       "      <td>Biography,Drama</td>\n",
       "    </tr>\n",
       "    <tr>\n",
       "      <th>2</th>\n",
       "      <td>tt0069049</td>\n",
       "      <td>The Other Side of the Wind</td>\n",
       "      <td>The Other Side of the Wind</td>\n",
       "      <td>2018</td>\n",
       "      <td>122.0</td>\n",
       "      <td>Drama</td>\n",
       "    </tr>\n",
       "    <tr>\n",
       "      <th>3</th>\n",
       "      <td>tt0069204</td>\n",
       "      <td>Sabse Bada Sukh</td>\n",
       "      <td>Sabse Bada Sukh</td>\n",
       "      <td>2018</td>\n",
       "      <td>NaN</td>\n",
       "      <td>Comedy,Drama</td>\n",
       "    </tr>\n",
       "    <tr>\n",
       "      <th>4</th>\n",
       "      <td>tt0100275</td>\n",
       "      <td>The Wandering Soap Opera</td>\n",
       "      <td>La Telenovela Errante</td>\n",
       "      <td>2017</td>\n",
       "      <td>80.0</td>\n",
       "      <td>Comedy,Drama,Fantasy</td>\n",
       "    </tr>\n",
       "  </tbody>\n",
       "</table>\n",
       "</div>"
      ],
      "text/plain": [
       "      tconst                    primary_title              original_title  \\\n",
       "0  tt0063540                        Sunghursh                   Sunghursh   \n",
       "1  tt0066787  One Day Before the Rainy Season             Ashad Ka Ek Din   \n",
       "2  tt0069049       The Other Side of the Wind  The Other Side of the Wind   \n",
       "3  tt0069204                  Sabse Bada Sukh             Sabse Bada Sukh   \n",
       "4  tt0100275         The Wandering Soap Opera       La Telenovela Errante   \n",
       "\n",
       "   start_year  runtime_minutes                genres  \n",
       "0        2013            175.0    Action,Crime,Drama  \n",
       "1        2019            114.0       Biography,Drama  \n",
       "2        2018            122.0                 Drama  \n",
       "3        2018              NaN          Comedy,Drama  \n",
       "4        2017             80.0  Comedy,Drama,Fantasy  "
      ]
     },
     "execution_count": 18,
     "metadata": {},
     "output_type": "execute_result"
    }
   ],
   "source": [
    "basics = pd.read_csv('zippedData/imdb.title.basics.csv.gz', compression='gzip', error_bad_lines=False)\n",
    "print(basics.info())\n",
    "basics.head()"
   ]
  },
  {
   "cell_type": "markdown",
   "metadata": {},
   "source": [
    "**Use a new variable to work with the result from merging**"
   ]
  },
  {
   "cell_type": "code",
   "execution_count": 19,
   "metadata": {
    "scrolled": true
   },
   "outputs": [],
   "source": [
    "test = working.join(basics.set_index('primary_title'), how='left', on='title' )"
   ]
  },
  {
   "cell_type": "markdown",
   "metadata": {},
   "source": [
    "**Clean our dataset**"
   ]
  },
  {
   "cell_type": "code",
   "execution_count": 20,
   "metadata": {},
   "outputs": [
    {
     "data": {
      "text/plain": [
       "False    100\n",
       "True      13\n",
       "Name: title, dtype: int64"
      ]
     },
     "execution_count": 20,
     "metadata": {},
     "output_type": "execute_result"
    }
   ],
   "source": [
    "test['title'].duplicated().value_counts()"
   ]
  },
  {
   "cell_type": "code",
   "execution_count": 21,
   "metadata": {
    "scrolled": true
   },
   "outputs": [],
   "source": [
    "test = test[test['title'].duplicated() == False]"
   ]
  },
  {
   "cell_type": "markdown",
   "metadata": {},
   "source": [
    "**We found that there are a number of rows that don't have a genre assigned to. This is a result of different title name format in 2 datasets.\n",
    "  We Assign a new dataframe for the titles that have a format problem**"
   ]
  },
  {
   "cell_type": "code",
   "execution_count": 22,
   "metadata": {},
   "outputs": [],
   "source": [
    "name_prob = test[test['genres'].isna()]"
   ]
  },
  {
   "cell_type": "markdown",
   "metadata": {},
   "source": [
    "**Using Difflib to fix title name format conflix** "
   ]
  },
  {
   "cell_type": "code",
   "execution_count": 23,
   "metadata": {},
   "outputs": [],
   "source": [
    "import difflib"
   ]
  },
  {
   "cell_type": "code",
   "execution_count": 24,
   "metadata": {
    "scrolled": true
   },
   "outputs": [],
   "source": [
    "for i in name_prob.index:\n",
    "    try:\n",
    "        best_match = difflib.get_close_matches(test.loc[i, 'title'], basics['primary_title'], n=1)\n",
    "        test.loc[i, 'title'] = best_match[0] \n",
    "    except:\n",
    "        test.loc[i, 'title'] = test.loc[i, 'title']"
   ]
  },
  {
   "cell_type": "code",
   "execution_count": 25,
   "metadata": {},
   "outputs": [],
   "source": [
    "test2 = test[test.columns[:5]]"
   ]
  },
  {
   "cell_type": "markdown",
   "metadata": {},
   "source": [
    "**Now we can join tables**"
   ]
  },
  {
   "cell_type": "code",
   "execution_count": 26,
   "metadata": {},
   "outputs": [],
   "source": [
    "finished = test2.join(basics.set_index('primary_title'), how='left', on='title' )"
   ]
  },
  {
   "cell_type": "code",
   "execution_count": 27,
   "metadata": {},
   "outputs": [],
   "source": [
    "finished = finished[finished['title'].duplicated() == False]"
   ]
  },
  {
   "cell_type": "code",
   "execution_count": 28,
   "metadata": {},
   "outputs": [
    {
     "data": {
      "text/plain": [
       "2"
      ]
     },
     "execution_count": 28,
     "metadata": {},
     "output_type": "execute_result"
    }
   ],
   "source": [
    "finished['genres'].isna().sum()"
   ]
  },
  {
   "cell_type": "code",
   "execution_count": 29,
   "metadata": {},
   "outputs": [
    {
     "data": {
      "text/html": [
       "<div>\n",
       "<style scoped>\n",
       "    .dataframe tbody tr th:only-of-type {\n",
       "        vertical-align: middle;\n",
       "    }\n",
       "\n",
       "    .dataframe tbody tr th {\n",
       "        vertical-align: top;\n",
       "    }\n",
       "\n",
       "    .dataframe thead th {\n",
       "        text-align: right;\n",
       "    }\n",
       "</style>\n",
       "<table border=\"1\" class=\"dataframe\">\n",
       "  <thead>\n",
       "    <tr style=\"text-align: right;\">\n",
       "      <th></th>\n",
       "      <th>title</th>\n",
       "      <th>studio</th>\n",
       "      <th>domestic_gross</th>\n",
       "      <th>foreign_gross</th>\n",
       "      <th>year</th>\n",
       "      <th>tconst</th>\n",
       "      <th>original_title</th>\n",
       "      <th>start_year</th>\n",
       "      <th>runtime_minutes</th>\n",
       "      <th>genres</th>\n",
       "    </tr>\n",
       "  </thead>\n",
       "  <tbody>\n",
       "    <tr>\n",
       "      <th>2768</th>\n",
       "      <td>Coco</td>\n",
       "      <td>BV</td>\n",
       "      <td>209700000.0</td>\n",
       "      <td>597400000.0</td>\n",
       "      <td>2017</td>\n",
       "      <td>tt10453328</td>\n",
       "      <td>Coco</td>\n",
       "      <td>2018.0</td>\n",
       "      <td>NaN</td>\n",
       "      <td>NaN</td>\n",
       "    </tr>\n",
       "    <tr>\n",
       "      <th>736</th>\n",
       "      <td>MIB 3</td>\n",
       "      <td>Sony</td>\n",
       "      <td>179000000.0</td>\n",
       "      <td>445000000.0</td>\n",
       "      <td>2012</td>\n",
       "      <td>NaN</td>\n",
       "      <td>NaN</td>\n",
       "      <td>NaN</td>\n",
       "      <td>NaN</td>\n",
       "      <td>NaN</td>\n",
       "    </tr>\n",
       "  </tbody>\n",
       "</table>\n",
       "</div>"
      ],
      "text/plain": [
       "      title studio  domestic_gross  foreign_gross  year      tconst  \\\n",
       "2768   Coco     BV     209700000.0    597400000.0  2017  tt10453328   \n",
       "736   MIB 3   Sony     179000000.0    445000000.0  2012         NaN   \n",
       "\n",
       "     original_title  start_year  runtime_minutes genres  \n",
       "2768           Coco      2018.0              NaN    NaN  \n",
       "736             NaN         NaN              NaN    NaN  "
      ]
     },
     "execution_count": 29,
     "metadata": {},
     "output_type": "execute_result"
    }
   ],
   "source": [
    "finished[finished['genres'].isna() == True]"
   ]
  },
  {
   "cell_type": "markdown",
   "metadata": {},
   "source": [
    "**Even through we commonly know what exactly genres these 2 movies are, I chose to leave it \"missing\" for the sake of database that we use**"
   ]
  },
  {
   "cell_type": "code",
   "execution_count": 30,
   "metadata": {},
   "outputs": [],
   "source": [
    "finished['genres'].fillna('Missing', inplace=True)"
   ]
  },
  {
   "cell_type": "code",
   "execution_count": 31,
   "metadata": {},
   "outputs": [],
   "source": [
    "finished2 = finished[finished.columns[:4]]"
   ]
  },
  {
   "cell_type": "markdown",
   "metadata": {},
   "source": [
    "**Create total gross column**"
   ]
  },
  {
   "cell_type": "code",
   "execution_count": 32,
   "metadata": {},
   "outputs": [
    {
     "name": "stderr",
     "output_type": "stream",
     "text": [
      "<ipython-input-32-9b878141ea44>:1: SettingWithCopyWarning: \n",
      "A value is trying to be set on a copy of a slice from a DataFrame.\n",
      "Try using .loc[row_indexer,col_indexer] = value instead\n",
      "\n",
      "See the caveats in the documentation: https://pandas.pydata.org/pandas-docs/stable/user_guide/indexing.html#returning-a-view-versus-a-copy\n",
      "  finished2['total'] = finished2['domestic_gross'] + finished2['foreign_gross']\n"
     ]
    }
   ],
   "source": [
    "finished2['total'] = finished2['domestic_gross'] + finished2['foreign_gross']"
   ]
  },
  {
   "cell_type": "code",
   "execution_count": 33,
   "metadata": {},
   "outputs": [
    {
     "name": "stderr",
     "output_type": "stream",
     "text": [
      "<ipython-input-33-f5639281b669>:1: SettingWithCopyWarning: \n",
      "A value is trying to be set on a copy of a slice from a DataFrame.\n",
      "Try using .loc[row_indexer,col_indexer] = value instead\n",
      "\n",
      "See the caveats in the documentation: https://pandas.pydata.org/pandas-docs/stable/user_guide/indexing.html#returning-a-view-versus-a-copy\n",
      "  finished2['genres'] = finished['genres']\n"
     ]
    }
   ],
   "source": [
    "finished2['genres'] = finished['genres']"
   ]
  },
  {
   "cell_type": "code",
   "execution_count": 34,
   "metadata": {},
   "outputs": [
    {
     "data": {
      "text/html": [
       "<div>\n",
       "<style scoped>\n",
       "    .dataframe tbody tr th:only-of-type {\n",
       "        vertical-align: middle;\n",
       "    }\n",
       "\n",
       "    .dataframe tbody tr th {\n",
       "        vertical-align: top;\n",
       "    }\n",
       "\n",
       "    .dataframe thead th {\n",
       "        text-align: right;\n",
       "    }\n",
       "</style>\n",
       "<table border=\"1\" class=\"dataframe\">\n",
       "  <thead>\n",
       "    <tr style=\"text-align: right;\">\n",
       "      <th></th>\n",
       "      <th>title</th>\n",
       "      <th>studio</th>\n",
       "      <th>domestic_gross</th>\n",
       "      <th>foreign_gross</th>\n",
       "      <th>total</th>\n",
       "      <th>genres</th>\n",
       "    </tr>\n",
       "  </thead>\n",
       "  <tbody>\n",
       "    <tr>\n",
       "      <th>727</th>\n",
       "      <td>The Avengers</td>\n",
       "      <td>BV</td>\n",
       "      <td>623400000.0</td>\n",
       "      <td>895500000.0</td>\n",
       "      <td>1.518900e+09</td>\n",
       "      <td>Action,Adventure,Sci-Fi</td>\n",
       "    </tr>\n",
       "    <tr>\n",
       "      <th>1875</th>\n",
       "      <td>Avengers: Age of Ultron</td>\n",
       "      <td>BV</td>\n",
       "      <td>459000000.0</td>\n",
       "      <td>946400000.0</td>\n",
       "      <td>1.405400e+09</td>\n",
       "      <td>Action,Adventure,Sci-Fi</td>\n",
       "    </tr>\n",
       "    <tr>\n",
       "      <th>3080</th>\n",
       "      <td>Black Panther</td>\n",
       "      <td>BV</td>\n",
       "      <td>700100000.0</td>\n",
       "      <td>646900000.0</td>\n",
       "      <td>1.347000e+09</td>\n",
       "      <td>Action,Adventure,Sci-Fi</td>\n",
       "    </tr>\n",
       "    <tr>\n",
       "      <th>328</th>\n",
       "      <td>Harry Potter and the Deathly Hallows: Part 2</td>\n",
       "      <td>WB</td>\n",
       "      <td>381000000.0</td>\n",
       "      <td>960500000.0</td>\n",
       "      <td>1.341500e+09</td>\n",
       "      <td>Adventure,Drama,Fantasy</td>\n",
       "    </tr>\n",
       "    <tr>\n",
       "      <th>2758</th>\n",
       "      <td>Star Wars: The Last Jedi</td>\n",
       "      <td>BV</td>\n",
       "      <td>620200000.0</td>\n",
       "      <td>712400000.0</td>\n",
       "      <td>1.332600e+09</td>\n",
       "      <td>Action,Adventure,Fantasy</td>\n",
       "    </tr>\n",
       "    <tr>\n",
       "      <th>...</th>\n",
       "      <td>...</td>\n",
       "      <td>...</td>\n",
       "      <td>...</td>\n",
       "      <td>...</td>\n",
       "      <td>...</td>\n",
       "      <td>...</td>\n",
       "    </tr>\n",
       "    <tr>\n",
       "      <th>3090</th>\n",
       "      <td>Ready Player One</td>\n",
       "      <td>WB</td>\n",
       "      <td>137700000.0</td>\n",
       "      <td>445200000.0</td>\n",
       "      <td>5.829000e+08</td>\n",
       "      <td>Action,Adventure,Sci-Fi</td>\n",
       "    </tr>\n",
       "    <tr>\n",
       "      <th>3091</th>\n",
       "      <td>Operation Red Sea</td>\n",
       "      <td>WGUSA</td>\n",
       "      <td>1500000.0</td>\n",
       "      <td>577700000.0</td>\n",
       "      <td>5.792000e+08</td>\n",
       "      <td>Action,Drama,Thriller</td>\n",
       "    </tr>\n",
       "    <tr>\n",
       "      <th>1882</th>\n",
       "      <td>Fifty Shades of Grey</td>\n",
       "      <td>Uni.</td>\n",
       "      <td>166200000.0</td>\n",
       "      <td>404800000.0</td>\n",
       "      <td>5.710000e+08</td>\n",
       "      <td>Drama,Romance,Thriller</td>\n",
       "    </tr>\n",
       "    <tr>\n",
       "      <th>2774</th>\n",
       "      <td>Kong: Skull Island</td>\n",
       "      <td>WB</td>\n",
       "      <td>168100000.0</td>\n",
       "      <td>398600000.0</td>\n",
       "      <td>5.667000e+08</td>\n",
       "      <td>Action,Adventure,Fantasy</td>\n",
       "    </tr>\n",
       "    <tr>\n",
       "      <th>336</th>\n",
       "      <td>The Smurfs</td>\n",
       "      <td>Sony</td>\n",
       "      <td>142600000.0</td>\n",
       "      <td>421100000.0</td>\n",
       "      <td>5.637000e+08</td>\n",
       "      <td>Adventure,Animation,Comedy</td>\n",
       "    </tr>\n",
       "  </tbody>\n",
       "</table>\n",
       "<p>100 rows × 6 columns</p>\n",
       "</div>"
      ],
      "text/plain": [
       "                                             title studio  domestic_gross  \\\n",
       "727                                   The Avengers     BV     623400000.0   \n",
       "1875                       Avengers: Age of Ultron     BV     459000000.0   \n",
       "3080                                 Black Panther     BV     700100000.0   \n",
       "328   Harry Potter and the Deathly Hallows: Part 2     WB     381000000.0   \n",
       "2758                      Star Wars: The Last Jedi     BV     620200000.0   \n",
       "...                                            ...    ...             ...   \n",
       "3090                              Ready Player One     WB     137700000.0   \n",
       "3091                             Operation Red Sea  WGUSA       1500000.0   \n",
       "1882                          Fifty Shades of Grey   Uni.     166200000.0   \n",
       "2774                            Kong: Skull Island     WB     168100000.0   \n",
       "336                                     The Smurfs   Sony     142600000.0   \n",
       "\n",
       "      foreign_gross         total                      genres  \n",
       "727     895500000.0  1.518900e+09     Action,Adventure,Sci-Fi  \n",
       "1875    946400000.0  1.405400e+09     Action,Adventure,Sci-Fi  \n",
       "3080    646900000.0  1.347000e+09     Action,Adventure,Sci-Fi  \n",
       "328     960500000.0  1.341500e+09     Adventure,Drama,Fantasy  \n",
       "2758    712400000.0  1.332600e+09    Action,Adventure,Fantasy  \n",
       "...             ...           ...                         ...  \n",
       "3090    445200000.0  5.829000e+08     Action,Adventure,Sci-Fi  \n",
       "3091    577700000.0  5.792000e+08       Action,Drama,Thriller  \n",
       "1882    404800000.0  5.710000e+08      Drama,Romance,Thriller  \n",
       "2774    398600000.0  5.667000e+08    Action,Adventure,Fantasy  \n",
       "336     421100000.0  5.637000e+08  Adventure,Animation,Comedy  \n",
       "\n",
       "[100 rows x 6 columns]"
      ]
     },
     "execution_count": 34,
     "metadata": {},
     "output_type": "execute_result"
    }
   ],
   "source": [
    "finished2.sort_values('total', ascending=False)"
   ]
  },
  {
   "cell_type": "code",
   "execution_count": 35,
   "metadata": {},
   "outputs": [
    {
     "data": {
      "text/plain": [
       "Action,Adventure,Sci-Fi       23\n",
       "Adventure,Animation,Comedy    14\n",
       "Action,Adventure,Fantasy      11\n",
       "Action,Adventure,Comedy        7\n",
       "Action,Adventure,Animation     5\n",
       "Action,Adventure,Thriller      5\n",
       "Adventure,Drama,Fantasy        5\n",
       "Adventure,Family,Fantasy       4\n",
       "Action,Crime,Thriller          2\n",
       "Action,Drama,Thriller          2\n",
       "Adventure,Fantasy              2\n",
       "Missing                        2\n",
       "Adventure,Drama,Sci-Fi         2\n",
       "Biography,Drama,Music          1\n",
       "Drama,Fantasy,Romance          1\n",
       "Drama,Sci-Fi,Thriller          1\n",
       "Action,Sci-Fi,Thriller         1\n",
       "Drama,Romance,Thriller         1\n",
       "Action,Adventure,Drama         1\n",
       "Horror,Thriller                1\n",
       "Animation                      1\n",
       "Crime,Drama                    1\n",
       "Comedy,Mystery                 1\n",
       "Animation,Comedy,Family        1\n",
       "Adventure,Drama,Sport          1\n",
       "Documentary                    1\n",
       "Action,Adventure,Family        1\n",
       "Action,Thriller                1\n",
       "Adventure,Fantasy,Mystery      1\n",
       "Name: genres, dtype: int64"
      ]
     },
     "execution_count": 35,
     "metadata": {},
     "output_type": "execute_result"
    }
   ],
   "source": [
    "finished2['genres'].value_counts()"
   ]
  },
  {
   "cell_type": "code",
   "execution_count": 36,
   "metadata": {},
   "outputs": [],
   "source": [
    "group_genres = finished2.groupby('genres').sum()"
   ]
  },
  {
   "cell_type": "markdown",
   "metadata": {},
   "source": [
    "**Now we pick only top 25 genres to present in a graph**"
   ]
  },
  {
   "cell_type": "code",
   "execution_count": 119,
   "metadata": {},
   "outputs": [
    {
     "data": {
      "text/html": [
       "<div>\n",
       "<style scoped>\n",
       "    .dataframe tbody tr th:only-of-type {\n",
       "        vertical-align: middle;\n",
       "    }\n",
       "\n",
       "    .dataframe tbody tr th {\n",
       "        vertical-align: top;\n",
       "    }\n",
       "\n",
       "    .dataframe thead th {\n",
       "        text-align: right;\n",
       "    }\n",
       "</style>\n",
       "<table border=\"1\" class=\"dataframe\">\n",
       "  <thead>\n",
       "    <tr style=\"text-align: right;\">\n",
       "      <th></th>\n",
       "      <th>domestic_gross</th>\n",
       "      <th>foreign_gross</th>\n",
       "      <th>total</th>\n",
       "    </tr>\n",
       "    <tr>\n",
       "      <th>genres</th>\n",
       "      <th></th>\n",
       "      <th></th>\n",
       "      <th></th>\n",
       "    </tr>\n",
       "  </thead>\n",
       "  <tbody>\n",
       "    <tr>\n",
       "      <th>Action,Adventure,Sci-Fi</th>\n",
       "      <td>8.055500e+09</td>\n",
       "      <td>1.326320e+10</td>\n",
       "      <td>2.131870e+10</td>\n",
       "    </tr>\n",
       "    <tr>\n",
       "      <th>Adventure,Animation,Comedy</th>\n",
       "      <td>4.056800e+09</td>\n",
       "      <td>8.022900e+09</td>\n",
       "      <td>1.207970e+10</td>\n",
       "    </tr>\n",
       "    <tr>\n",
       "      <th>Action,Adventure,Fantasy</th>\n",
       "      <td>3.273200e+09</td>\n",
       "      <td>6.037100e+09</td>\n",
       "      <td>9.310300e+09</td>\n",
       "    </tr>\n",
       "    <tr>\n",
       "      <th>Action,Adventure,Comedy</th>\n",
       "      <td>2.340800e+09</td>\n",
       "      <td>3.297100e+09</td>\n",
       "      <td>5.637900e+09</td>\n",
       "    </tr>\n",
       "    <tr>\n",
       "      <th>Adventure,Drama,Fantasy</th>\n",
       "      <td>1.380100e+09</td>\n",
       "      <td>2.810800e+09</td>\n",
       "      <td>4.190900e+09</td>\n",
       "    </tr>\n",
       "    <tr>\n",
       "      <th>Action,Adventure,Thriller</th>\n",
       "      <td>1.129100e+09</td>\n",
       "      <td>3.028800e+09</td>\n",
       "      <td>4.157900e+09</td>\n",
       "    </tr>\n",
       "    <tr>\n",
       "      <th>Action,Adventure,Animation</th>\n",
       "      <td>1.360500e+09</td>\n",
       "      <td>2.414400e+09</td>\n",
       "      <td>3.774900e+09</td>\n",
       "    </tr>\n",
       "    <tr>\n",
       "      <th>Adventure,Family,Fantasy</th>\n",
       "      <td>1.030800e+09</td>\n",
       "      <td>2.483500e+09</td>\n",
       "      <td>3.514300e+09</td>\n",
       "    </tr>\n",
       "    <tr>\n",
       "      <th>Adventure,Fantasy</th>\n",
       "      <td>5.135000e+08</td>\n",
       "      <td>1.400900e+09</td>\n",
       "      <td>1.914400e+09</td>\n",
       "    </tr>\n",
       "    <tr>\n",
       "      <th>Action,Drama,Thriller</th>\n",
       "      <td>4.200000e+06</td>\n",
       "      <td>1.445300e+09</td>\n",
       "      <td>1.449500e+09</td>\n",
       "    </tr>\n",
       "  </tbody>\n",
       "</table>\n",
       "</div>"
      ],
      "text/plain": [
       "                            domestic_gross  foreign_gross         total\n",
       "genres                                                                 \n",
       "Action,Adventure,Sci-Fi       8.055500e+09   1.326320e+10  2.131870e+10\n",
       "Adventure,Animation,Comedy    4.056800e+09   8.022900e+09  1.207970e+10\n",
       "Action,Adventure,Fantasy      3.273200e+09   6.037100e+09  9.310300e+09\n",
       "Action,Adventure,Comedy       2.340800e+09   3.297100e+09  5.637900e+09\n",
       "Adventure,Drama,Fantasy       1.380100e+09   2.810800e+09  4.190900e+09\n",
       "Action,Adventure,Thriller     1.129100e+09   3.028800e+09  4.157900e+09\n",
       "Action,Adventure,Animation    1.360500e+09   2.414400e+09  3.774900e+09\n",
       "Adventure,Family,Fantasy      1.030800e+09   2.483500e+09  3.514300e+09\n",
       "Adventure,Fantasy             5.135000e+08   1.400900e+09  1.914400e+09\n",
       "Action,Drama,Thriller         4.200000e+06   1.445300e+09  1.449500e+09"
      ]
     },
     "execution_count": 119,
     "metadata": {},
     "output_type": "execute_result"
    }
   ],
   "source": [
    "for_graph = group_genres.sort_values('total', ascending=False)[:10]\n",
    "for_graph"
   ]
  },
  {
   "cell_type": "markdown",
   "metadata": {},
   "source": [
    "**Visualization**"
   ]
  },
  {
   "cell_type": "code",
   "execution_count": 38,
   "metadata": {},
   "outputs": [],
   "source": [
    "for_graph_reset_index = for_graph.reset_index()\n",
    "for_graph_reset_index['genres'] = for_graph_reset_index['genres'].astype(str)\n",
    "\n",
    "glabels = for_graph_reset_index['genres'].values\n",
    "y = np.arange(len(glabels))\n",
    "revenue = for_graph_reset_index['total'].values\n"
   ]
  },
  {
   "cell_type": "code",
   "execution_count": 39,
   "metadata": {},
   "outputs": [
    {
     "data": {
      "text/plain": [
       "Text(0.5, 1.0, 'Total Revenue by Genres')"
      ]
     },
     "execution_count": 39,
     "metadata": {},
     "output_type": "execute_result"
    },
    {
     "data": {
      "image/png": "[encoded data removed]",
      "text/plain": [
       "<Figure size 432x288 with 1 Axes>"
      ]
     },
     "metadata": {
      "needs_background": "light"
     },
     "output_type": "display_data"
    }
   ],
   "source": [
    "import matplotlib.ticker as mtick\n",
    "fig, ax = plt.subplots()\n",
    "ax.barh(y, revenue, align='center', color=['crimson', 'lightsteelblue','lightsteelblue',\\\n",
    "                                           'lightsteelblue', 'lightsteelblue', 'lightsteelblue', 'lightsteelblue', 'lightsteelblue', 'lightsteelblue', 'lightsteelblue'])\n",
    "\n",
    "fmt = '${x:,.0f}'\n",
    "tick = mtick.StrMethodFormatter(fmt)\n",
    "ax.xaxis.set_major_formatter(tick)\n",
    "\n",
    "ax.set_yticks(y)\n",
    "ax.set_yticklabels(glabels)\n",
    "ax.invert_yaxis()\n",
    "plt.xticks(rotation=75)\n",
    "ax.set_xlabel('Total Revenue')\n",
    "ax.set_title('Total Revenue by Genres')"
   ]
  },
  {
   "cell_type": "markdown",
   "metadata": {},
   "source": [
    "# High Rating Director"
   ]
  },
  {
   "cell_type": "markdown",
   "metadata": {},
   "source": [
    "**Import relavent datasets. Even though we did it already above, we do it again in case we want to check it out, we don't have to go up to see it**"
   ]
  },
  {
   "cell_type": "code",
   "execution_count": 40,
   "metadata": {},
   "outputs": [],
   "source": [
    "rating = pd.read_csv('zippedData/imdb.title.ratings.csv.gz', compression='gzip', error_bad_lines=False)"
   ]
  },
  {
   "cell_type": "code",
   "execution_count": 41,
   "metadata": {},
   "outputs": [],
   "source": [
    "name_basics = pd.read_csv('zippedData/imdb.name.basics.csv.gz', compression='gzip', error_bad_lines=False)"
   ]
  },
  {
   "cell_type": "code",
   "execution_count": 42,
   "metadata": {},
   "outputs": [],
   "source": [
    "crew = pd.read_csv('zippedData/imdb.title.crew.csv.gz', compression='gzip', error_bad_lines=False)"
   ]
  },
  {
   "cell_type": "code",
   "execution_count": 43,
   "metadata": {},
   "outputs": [],
   "source": [
    "basics = pd.read_csv('zippedData/imdb.title.basics.csv.gz', compression='gzip', error_bad_lines=False)"
   ]
  },
  {
   "cell_type": "markdown",
   "metadata": {},
   "source": [
    "**join crew database with basics**"
   ]
  },
  {
   "cell_type": "code",
   "execution_count": 44,
   "metadata": {},
   "outputs": [],
   "source": [
    "crew_basics = crew.join(basics.set_index('tconst'), how='left', on='tconst')"
   ]
  },
  {
   "cell_type": "markdown",
   "metadata": {},
   "source": [
    "**join rating with the result from crew and basics**"
   ]
  },
  {
   "cell_type": "code",
   "execution_count": 45,
   "metadata": {},
   "outputs": [],
   "source": [
    "rating_crew_basics = rating.join(crew_basics.set_index('tconst'), how='left', on='tconst')"
   ]
  },
  {
   "cell_type": "markdown",
   "metadata": {},
   "source": [
    "**Add another dataset**"
   ]
  },
  {
   "cell_type": "code",
   "execution_count": 46,
   "metadata": {},
   "outputs": [],
   "source": [
    "akas = pd.read_csv('zippedData/imdb.title.akas.csv.gz', compression='gzip', error_bad_lines=False)"
   ]
  },
  {
   "cell_type": "markdown",
   "metadata": {},
   "source": [
    "**Join akas because we want our dataset to have region which we will narrow down to only in US**"
   ]
  },
  {
   "cell_type": "code",
   "execution_count": 47,
   "metadata": {},
   "outputs": [],
   "source": [
    "finished = rating_crew_basics.join(akas.set_index('title'), how='left', on='primary_title')\n",
    "workingdf = finished[finished['region']=='US'][['averagerating', 'numvotes', 'directors','genres', 'primary_title']]"
   ]
  },
  {
   "cell_type": "code",
   "execution_count": 120,
   "metadata": {},
   "outputs": [
    {
     "data": {
      "text/html": [
       "<div>\n",
       "<style scoped>\n",
       "    .dataframe tbody tr th:only-of-type {\n",
       "        vertical-align: middle;\n",
       "    }\n",
       "\n",
       "    .dataframe tbody tr th {\n",
       "        vertical-align: top;\n",
       "    }\n",
       "\n",
       "    .dataframe thead th {\n",
       "        text-align: right;\n",
       "    }\n",
       "</style>\n",
       "<table border=\"1\" class=\"dataframe\">\n",
       "  <thead>\n",
       "    <tr style=\"text-align: right;\">\n",
       "      <th></th>\n",
       "      <th>averagerating</th>\n",
       "      <th>numvotes</th>\n",
       "      <th>directors</th>\n",
       "      <th>genres</th>\n",
       "      <th>primary_title</th>\n",
       "    </tr>\n",
       "  </thead>\n",
       "  <tbody>\n",
       "    <tr>\n",
       "      <th>3</th>\n",
       "      <td>4.2</td>\n",
       "      <td>50352</td>\n",
       "      <td>nm0001317</td>\n",
       "      <td>Action,Adventure,Fantasy</td>\n",
       "      <td>The Legend of Hercules</td>\n",
       "    </tr>\n",
       "    <tr>\n",
       "      <th>6</th>\n",
       "      <td>7.0</td>\n",
       "      <td>1613</td>\n",
       "      <td>nm1464150</td>\n",
       "      <td>Biography,Drama,Sport</td>\n",
       "      <td>The Hammer</td>\n",
       "    </tr>\n",
       "    <tr>\n",
       "      <th>9</th>\n",
       "      <td>4.2</td>\n",
       "      <td>148</td>\n",
       "      <td>nm2874896</td>\n",
       "      <td>Action,Adventure,Sci-Fi</td>\n",
       "      <td>Vanquisher</td>\n",
       "    </tr>\n",
       "    <tr>\n",
       "      <th>10</th>\n",
       "      <td>5.1</td>\n",
       "      <td>8296</td>\n",
       "      <td>nm0847859</td>\n",
       "      <td>Comedy</td>\n",
       "      <td>Baggage Claim</td>\n",
       "    </tr>\n",
       "    <tr>\n",
       "      <th>11</th>\n",
       "      <td>5.8</td>\n",
       "      <td>2381</td>\n",
       "      <td>nm0153774</td>\n",
       "      <td>Comedy,Drama,Romance</td>\n",
       "      <td>The Four-Faced Liar</td>\n",
       "    </tr>\n",
       "    <tr>\n",
       "      <th>...</th>\n",
       "      <td>...</td>\n",
       "      <td>...</td>\n",
       "      <td>...</td>\n",
       "      <td>...</td>\n",
       "      <td>...</td>\n",
       "    </tr>\n",
       "    <tr>\n",
       "      <th>73824</th>\n",
       "      <td>4.1</td>\n",
       "      <td>293</td>\n",
       "      <td>nm1058259</td>\n",
       "      <td>Action,Horror,Thriller</td>\n",
       "      <td>The Car: Road to Revenge</td>\n",
       "    </tr>\n",
       "    <tr>\n",
       "      <th>73831</th>\n",
       "      <td>3.7</td>\n",
       "      <td>4057</td>\n",
       "      <td>nm1293225</td>\n",
       "      <td>Biography,Drama</td>\n",
       "      <td>PM Narendra Modi</td>\n",
       "    </tr>\n",
       "    <tr>\n",
       "      <th>73846</th>\n",
       "      <td>6.3</td>\n",
       "      <td>21</td>\n",
       "      <td>nm0663605</td>\n",
       "      <td>Documentary</td>\n",
       "      <td>Out</td>\n",
       "    </tr>\n",
       "    <tr>\n",
       "      <th>73853</th>\n",
       "      <td>4.7</td>\n",
       "      <td>14</td>\n",
       "      <td>nm1272773</td>\n",
       "      <td>Action,Drama</td>\n",
       "      <td>Sisters</td>\n",
       "    </tr>\n",
       "    <tr>\n",
       "      <th>73854</th>\n",
       "      <td>7.0</td>\n",
       "      <td>5</td>\n",
       "      <td>nm0001206</td>\n",
       "      <td>Documentary</td>\n",
       "      <td>The Projectionist</td>\n",
       "    </tr>\n",
       "  </tbody>\n",
       "</table>\n",
       "<p>28273 rows × 5 columns</p>\n",
       "</div>"
      ],
      "text/plain": [
       "       averagerating  numvotes  directors                    genres  \\\n",
       "3                4.2     50352  nm0001317  Action,Adventure,Fantasy   \n",
       "6                7.0      1613  nm1464150     Biography,Drama,Sport   \n",
       "9                4.2       148  nm2874896   Action,Adventure,Sci-Fi   \n",
       "10               5.1      8296  nm0847859                    Comedy   \n",
       "11               5.8      2381  nm0153774      Comedy,Drama,Romance   \n",
       "...              ...       ...        ...                       ...   \n",
       "73824            4.1       293  nm1058259    Action,Horror,Thriller   \n",
       "73831            3.7      4057  nm1293225           Biography,Drama   \n",
       "73846            6.3        21  nm0663605               Documentary   \n",
       "73853            4.7        14  nm1272773              Action,Drama   \n",
       "73854            7.0         5  nm0001206               Documentary   \n",
       "\n",
       "                  primary_title  \n",
       "3        The Legend of Hercules  \n",
       "6                    The Hammer  \n",
       "9                    Vanquisher  \n",
       "10                Baggage Claim  \n",
       "11          The Four-Faced Liar  \n",
       "...                         ...  \n",
       "73824  The Car: Road to Revenge  \n",
       "73831          PM Narendra Modi  \n",
       "73846                       Out  \n",
       "73853                   Sisters  \n",
       "73854         The Projectionist  \n",
       "\n",
       "[28273 rows x 5 columns]"
      ]
     },
     "execution_count": 120,
     "metadata": {},
     "output_type": "execute_result"
    }
   ],
   "source": [
    "workingdf.drop_duplicates(inplace=True)"
   ]
  },
  {
   "cell_type": "markdown",
   "metadata": {},
   "source": [
    "**We almost get a table for a graph but we still need to assign director codes to names**"
   ]
  },
  {
   "cell_type": "code",
   "execution_count": 121,
   "metadata": {},
   "outputs": [
    {
     "data": {
      "text/html": [
       "<div>\n",
       "<style scoped>\n",
       "    .dataframe tbody tr th:only-of-type {\n",
       "        vertical-align: middle;\n",
       "    }\n",
       "\n",
       "    .dataframe tbody tr th {\n",
       "        vertical-align: top;\n",
       "    }\n",
       "\n",
       "    .dataframe thead th {\n",
       "        text-align: right;\n",
       "    }\n",
       "</style>\n",
       "<table border=\"1\" class=\"dataframe\">\n",
       "  <thead>\n",
       "    <tr style=\"text-align: right;\">\n",
       "      <th></th>\n",
       "      <th>averagerating</th>\n",
       "      <th>numvotes</th>\n",
       "      <th>directors</th>\n",
       "      <th>genres</th>\n",
       "      <th>primary_title</th>\n",
       "    </tr>\n",
       "  </thead>\n",
       "  <tbody>\n",
       "    <tr>\n",
       "      <th>4461</th>\n",
       "      <td>9.4</td>\n",
       "      <td>9629</td>\n",
       "      <td>nm9988436,nm6041686,nm3591496</td>\n",
       "      <td>Drama</td>\n",
       "      <td>Peranbu</td>\n",
       "    </tr>\n",
       "    <tr>\n",
       "      <th>49629</th>\n",
       "      <td>9.3</td>\n",
       "      <td>17308</td>\n",
       "      <td>nm2871077,nm1919905</td>\n",
       "      <td>Drama</td>\n",
       "      <td>Wheels</td>\n",
       "    </tr>\n",
       "    <tr>\n",
       "      <th>60112</th>\n",
       "      <td>8.9</td>\n",
       "      <td>14946</td>\n",
       "      <td>nm1554601</td>\n",
       "      <td>Biography,Crime,Documentary</td>\n",
       "      <td>O.J.: Made in America</td>\n",
       "    </tr>\n",
       "    <tr>\n",
       "      <th>63498</th>\n",
       "      <td>8.8</td>\n",
       "      <td>1841066</td>\n",
       "      <td>nm0634240</td>\n",
       "      <td>Action,Adventure,Sci-Fi</td>\n",
       "      <td>Inception</td>\n",
       "    </tr>\n",
       "    <tr>\n",
       "      <th>59785</th>\n",
       "      <td>8.8</td>\n",
       "      <td>441135</td>\n",
       "      <td>nm0751577,nm0751648</td>\n",
       "      <td>Action,Adventure,Sci-Fi</td>\n",
       "      <td>Avengers: Endgame</td>\n",
       "    </tr>\n",
       "    <tr>\n",
       "      <th>58930</th>\n",
       "      <td>8.8</td>\n",
       "      <td>10903</td>\n",
       "      <td>nm4242320</td>\n",
       "      <td>Drama,Romance</td>\n",
       "      <td>96</td>\n",
       "    </tr>\n",
       "    <tr>\n",
       "      <th>59127</th>\n",
       "      <td>8.6</td>\n",
       "      <td>30292</td>\n",
       "      <td>nm2336554</td>\n",
       "      <td>Action,Drama,War</td>\n",
       "      <td>Uri: The Surgical Strike</td>\n",
       "    </tr>\n",
       "    <tr>\n",
       "      <th>41921</th>\n",
       "      <td>8.6</td>\n",
       "      <td>15407</td>\n",
       "      <td>nm1335875</td>\n",
       "      <td>Action,Drama</td>\n",
       "      <td>The Stage</td>\n",
       "    </tr>\n",
       "    <tr>\n",
       "      <th>24920</th>\n",
       "      <td>8.6</td>\n",
       "      <td>1299334</td>\n",
       "      <td>nm0634240</td>\n",
       "      <td>Adventure,Drama,Sci-Fi</td>\n",
       "      <td>Interstellar</td>\n",
       "    </tr>\n",
       "    <tr>\n",
       "      <th>46993</th>\n",
       "      <td>8.5</td>\n",
       "      <td>123638</td>\n",
       "      <td>nm4318159</td>\n",
       "      <td>Action,Biography,Drama</td>\n",
       "      <td>Dangal</td>\n",
       "    </tr>\n",
       "    <tr>\n",
       "      <th>32118</th>\n",
       "      <td>8.5</td>\n",
       "      <td>677343</td>\n",
       "      <td>nm0865918,nm0619923</td>\n",
       "      <td>Biography,Comedy,Drama</td>\n",
       "      <td>The Intouchables</td>\n",
       "    </tr>\n",
       "    <tr>\n",
       "      <th>595</th>\n",
       "      <td>8.5</td>\n",
       "      <td>43409</td>\n",
       "      <td>nm1437189</td>\n",
       "      <td>Crime,Thriller</td>\n",
       "      <td>Andhadhun</td>\n",
       "    </tr>\n",
       "    <tr>\n",
       "      <th>33441</th>\n",
       "      <td>8.5</td>\n",
       "      <td>210869</td>\n",
       "      <td>nm0745247,nm2130108,nm0709056</td>\n",
       "      <td>Action,Adventure,Animation</td>\n",
       "      <td>Spider-Man: Into the Spider-Verse</td>\n",
       "    </tr>\n",
       "    <tr>\n",
       "      <th>32751</th>\n",
       "      <td>8.5</td>\n",
       "      <td>616916</td>\n",
       "      <td>nm3227090</td>\n",
       "      <td>Drama,Music</td>\n",
       "      <td>Whiplash</td>\n",
       "    </tr>\n",
       "    <tr>\n",
       "      <th>65045</th>\n",
       "      <td>8.5</td>\n",
       "      <td>29725</td>\n",
       "      <td>nm0294825</td>\n",
       "      <td>Documentary,Music</td>\n",
       "      <td>Samsara</td>\n",
       "    </tr>\n",
       "    <tr>\n",
       "      <th>71879</th>\n",
       "      <td>8.5</td>\n",
       "      <td>670926</td>\n",
       "      <td>nm0751577,nm0751648</td>\n",
       "      <td>Action,Adventure,Sci-Fi</td>\n",
       "      <td>Avengers: Infinity War</td>\n",
       "    </tr>\n",
       "    <tr>\n",
       "      <th>46594</th>\n",
       "      <td>8.4</td>\n",
       "      <td>8627</td>\n",
       "      <td>nm1787884</td>\n",
       "      <td>Documentary</td>\n",
       "      <td>The Red Pill</td>\n",
       "    </tr>\n",
       "    <tr>\n",
       "      <th>38058</th>\n",
       "      <td>8.4</td>\n",
       "      <td>1211405</td>\n",
       "      <td>nm0000233</td>\n",
       "      <td>Drama,Western</td>\n",
       "      <td>Django Unchained</td>\n",
       "    </tr>\n",
       "    <tr>\n",
       "      <th>35231</th>\n",
       "      <td>8.4</td>\n",
       "      <td>277194</td>\n",
       "      <td>nm0881279,nm2937122</td>\n",
       "      <td>Adventure,Animation,Comedy</td>\n",
       "      <td>Coco</td>\n",
       "    </tr>\n",
       "    <tr>\n",
       "      <th>50787</th>\n",
       "      <td>8.4</td>\n",
       "      <td>134084</td>\n",
       "      <td>nm1396121</td>\n",
       "      <td>Animation,Drama,Fantasy</td>\n",
       "      <td>Your Name.</td>\n",
       "    </tr>\n",
       "  </tbody>\n",
       "</table>\n",
       "</div>"
      ],
      "text/plain": [
       "       averagerating  numvotes                      directors  \\\n",
       "4461             9.4      9629  nm9988436,nm6041686,nm3591496   \n",
       "49629            9.3     17308            nm2871077,nm1919905   \n",
       "60112            8.9     14946                      nm1554601   \n",
       "63498            8.8   1841066                      nm0634240   \n",
       "59785            8.8    441135            nm0751577,nm0751648   \n",
       "58930            8.8     10903                      nm4242320   \n",
       "59127            8.6     30292                      nm2336554   \n",
       "41921            8.6     15407                      nm1335875   \n",
       "24920            8.6   1299334                      nm0634240   \n",
       "46993            8.5    123638                      nm4318159   \n",
       "32118            8.5    677343            nm0865918,nm0619923   \n",
       "595              8.5     43409                      nm1437189   \n",
       "33441            8.5    210869  nm0745247,nm2130108,nm0709056   \n",
       "32751            8.5    616916                      nm3227090   \n",
       "65045            8.5     29725                      nm0294825   \n",
       "71879            8.5    670926            nm0751577,nm0751648   \n",
       "46594            8.4      8627                      nm1787884   \n",
       "38058            8.4   1211405                      nm0000233   \n",
       "35231            8.4    277194            nm0881279,nm2937122   \n",
       "50787            8.4    134084                      nm1396121   \n",
       "\n",
       "                            genres                      primary_title  \n",
       "4461                         Drama                            Peranbu  \n",
       "49629                        Drama                             Wheels  \n",
       "60112  Biography,Crime,Documentary              O.J.: Made in America  \n",
       "63498      Action,Adventure,Sci-Fi                          Inception  \n",
       "59785      Action,Adventure,Sci-Fi                  Avengers: Endgame  \n",
       "58930                Drama,Romance                                 96  \n",
       "59127             Action,Drama,War           Uri: The Surgical Strike  \n",
       "41921                 Action,Drama                          The Stage  \n",
       "24920       Adventure,Drama,Sci-Fi                       Interstellar  \n",
       "46993       Action,Biography,Drama                             Dangal  \n",
       "32118       Biography,Comedy,Drama                   The Intouchables  \n",
       "595                 Crime,Thriller                          Andhadhun  \n",
       "33441   Action,Adventure,Animation  Spider-Man: Into the Spider-Verse  \n",
       "32751                  Drama,Music                           Whiplash  \n",
       "65045            Documentary,Music                            Samsara  \n",
       "71879      Action,Adventure,Sci-Fi             Avengers: Infinity War  \n",
       "46594                  Documentary                       The Red Pill  \n",
       "38058                Drama,Western                   Django Unchained  \n",
       "35231   Adventure,Animation,Comedy                               Coco  \n",
       "50787      Animation,Drama,Fantasy                         Your Name.  "
      ]
     },
     "execution_count": 121,
     "metadata": {},
     "output_type": "execute_result"
    }
   ],
   "source": [
    "graphing = workingdf[workingdf['numvotes'] >= workingdf['numvotes'].mean()].sort_values('averagerating', ascending=False)[:20]\n",
    "graphing"
   ]
  },
  {
   "cell_type": "markdown",
   "metadata": {},
   "source": [
    "**Getting director names from the id**"
   ]
  },
  {
   "cell_type": "code",
   "execution_count": 50,
   "metadata": {},
   "outputs": [],
   "source": [
    "def getDirName(entry):\n",
    "    dirlist = []\n",
    "    codelist = entry.split(',')\n",
    "    for code in codelist:\n",
    "        name = name_basics[name_basics['nconst'] == code]['primary_name'].values[0]\n",
    "        dirlist.append(name)\n",
    "    return dirlist"
   ]
  },
  {
   "cell_type": "code",
   "execution_count": 51,
   "metadata": {},
   "outputs": [],
   "source": [
    "graphing['director_name'] = graphing['directors'].map(getDirName)"
   ]
  },
  {
   "cell_type": "markdown",
   "metadata": {},
   "source": [
    "**Make sure that we have the name in string**"
   ]
  },
  {
   "cell_type": "code",
   "execution_count": 52,
   "metadata": {},
   "outputs": [],
   "source": [
    "graphing['dirname_str'] = [', '.join(map(str, dname)) for dname in graphing['director_name']]"
   ]
  },
  {
   "cell_type": "markdown",
   "metadata": {},
   "source": [
    "**Visualization**"
   ]
  },
  {
   "cell_type": "code",
   "execution_count": 53,
   "metadata": {
    "scrolled": true
   },
   "outputs": [
    {
     "data": {
      "text/plain": [
       "Text(0.5, 1.0, 'Top Director with High Movie Rating')"
      ]
     },
     "execution_count": 53,
     "metadata": {},
     "output_type": "execute_result"
    },
    {
     "data": {
      "image/png": "[encoded data removed]",
      "text/plain": [
       "<Figure size 720x432 with 1 Axes>"
      ]
     },
     "metadata": {
      "needs_background": "light"
     },
     "output_type": "display_data"
    }
   ],
   "source": [
    "name = graphing['dirname_str']\n",
    "rate = graphing['averagerating']\n",
    "\n",
    "fig, ax = plt.subplots(figsize=(10,6))\n",
    "ax.bar(name, rate, color='sandybrown', capsize=7 )\n",
    "for s in ['top','bottom','left','right']:\n",
    "    ax.spines[s].set_visible(False)\n",
    "ax.set_ylabel('Rating')\n",
    "ax.set_xlabel('Director')\n",
    "plt.xticks(rotation=90)\n",
    "ax.grid(b=True, color='grey', linestyle='-.', linewidth=0.5, alpha=0.2)\n",
    "ax.set_title(\"Top Director with High Movie Rating\")"
   ]
  },
  {
   "cell_type": "markdown",
   "metadata": {},
   "source": [
    "**Option for this visualization**"
   ]
  },
  {
   "cell_type": "code",
   "execution_count": 76,
   "metadata": {},
   "outputs": [
    {
     "name": "stdout",
     "output_type": "stream",
     "text": [
      "Collecting pygal\n",
      "  Downloading pygal-2.4.0-py2.py3-none-any.whl (127 kB)\n",
      "Installing collected packages: pygal\n",
      "Successfully installed pygal-2.4.0\n"
     ]
    }
   ],
   "source": [
    "!pip install pygal"
   ]
  },
  {
   "cell_type": "code",
   "execution_count": 95,
   "metadata": {},
   "outputs": [],
   "source": [
    "import pygal\n",
    "from pygal.style import RedBlueStyle\n",
    "from IPython.display import display, HTML\n",
    "\n",
    "base_html = \"\"\"\n",
    "<!DOCTYPE html>\n",
    "<html>\n",
    "  <head>\n",
    "  <script type=\"text/javascript\" src=\"http://kozea.github.com/pygal.js/javascripts/svg.jquery.js\"></script>\n",
    "  <script type=\"text/javascript\" src=\"https://kozea.github.io/pygal.js/2.0.x/pygal-tooltips.min.js\"\"></script>\n",
    "  </head>\n",
    "  <body>\n",
    "    <figure>\n",
    "      {rendered_chart}\n",
    "    </figure>\n",
    "  </body>\n",
    "</html>\n",
    "\"\"\"\n",
    "\n",
    "def galplot(chart):\n",
    "    rendered_chart = chart.render(is_unicode=True)\n",
    "    plot_html = base_html.format(rendered_chart=rendered_chart)\n",
    "    display(HTML(plot_html))"
   ]
  },
  {
   "cell_type": "code",
   "execution_count": 96,
   "metadata": {},
   "outputs": [],
   "source": [
    "df = graphing[['dirname_str', 'averagerating']][:10]\n",
    "df = df.drop_duplicates(subset=['dirname_str'])"
   ]
  },
  {
   "cell_type": "code",
   "execution_count": 104,
   "metadata": {
    "scrolled": false
   },
   "outputs": [
    {
     "data": {
      "text/html": [
       "\n",
       "<!DOCTYPE html>\n",
       "<html>\n",
       "  <head>\n",
       "  <script type=\"text/javascript\" src=\"http://kozea.github.com/pygal.js/javascripts/svg.jquery.js\"></script>\n",
       "  <script type=\"text/javascript\" src=\"https://kozea.github.io/pygal.js/2.0.x/pygal-tooltips.min.js\"\"></script>\n",
       "  </head>\n",
       "  <body>\n",
       "    <figure>\n",
       "      <?xml version='1.0' encoding='utf-8'?>\n",
       "<svg xmlns=\"http://www.w3.org/2000/svg\" xmlns:xlink=\"http://www.w3.org/1999/xlink\" id=\"chart-88768646-8dcc-4ac4-8d18-2364cd81bd0f\" class=\"pygal-chart\" viewBox=\"0 0 600 500\"><!--Generated with pygal 2.4.0 (lxml) ©Kozea 2012-2016 on 2021-05-13--><!--http://pygal.org--><!--http://github.com/Kozea/pygal--><defs><style type=\"text/css\">#chart-88768646-8dcc-4ac4-8d18-2364cd81bd0f{-webkit-user-select:none;-webkit-font-smoothing:antialiased;font-family:Consolas,\"Liberation Mono\",Menlo,Courier,monospace}#chart-88768646-8dcc-4ac4-8d18-2364cd81bd0f .title{font-family:Consolas,\"Liberation Mono\",Menlo,Courier,monospace;font-size:16px}#chart-88768646-8dcc-4ac4-8d18-2364cd81bd0f .legends .legend text{font-family:Consolas,\"Liberation Mono\",Menlo,Courier,monospace;font-size:14px}#chart-88768646-8dcc-4ac4-8d18-2364cd81bd0f .axis text{font-family:Consolas,\"Liberation Mono\",Menlo,Courier,monospace;font-size:10px}#chart-88768646-8dcc-4ac4-8d18-2364cd81bd0f .axis text.major{font-family:Consolas,\"Liberation Mono\",Menlo,Courier,monospace;font-size:10px}#chart-88768646-8dcc-4ac4-8d18-2364cd81bd0f .text-overlay text.value{font-family:Consolas,\"Liberation Mono\",Menlo,Courier,monospace;font-size:16px}#chart-88768646-8dcc-4ac4-8d18-2364cd81bd0f .text-overlay text.label{font-family:Consolas,\"Liberation Mono\",Menlo,Courier,monospace;font-size:10px}#chart-88768646-8dcc-4ac4-8d18-2364cd81bd0f .tooltip{font-family:Consolas,\"Liberation Mono\",Menlo,Courier,monospace;font-size:14px}#chart-88768646-8dcc-4ac4-8d18-2364cd81bd0f text.no_data{font-family:Consolas,\"Liberation Mono\",Menlo,Courier,monospace;font-size:64px}\n",
       "#chart-88768646-8dcc-4ac4-8d18-2364cd81bd0f{background-color:#f9f9fa}#chart-88768646-8dcc-4ac4-8d18-2364cd81bd0f path,#chart-88768646-8dcc-4ac4-8d18-2364cd81bd0f line,#chart-88768646-8dcc-4ac4-8d18-2364cd81bd0f rect,#chart-88768646-8dcc-4ac4-8d18-2364cd81bd0f circle{-webkit-transition:150ms;-moz-transition:150ms;transition:150ms}#chart-88768646-8dcc-4ac4-8d18-2364cd81bd0f .graph &gt; .background{fill:#f9f9fa}#chart-88768646-8dcc-4ac4-8d18-2364cd81bd0f .plot &gt; .background{fill:#ffffff}#chart-88768646-8dcc-4ac4-8d18-2364cd81bd0f .graph{fill:rgba(0,0,0,0.9)}#chart-88768646-8dcc-4ac4-8d18-2364cd81bd0f text.no_data{fill:rgba(0,0,0,0.9)}#chart-88768646-8dcc-4ac4-8d18-2364cd81bd0f .title{fill:rgba(0,0,0,0.9)}#chart-88768646-8dcc-4ac4-8d18-2364cd81bd0f .legends .legend text{fill:rgba(0,0,0,0.9)}#chart-88768646-8dcc-4ac4-8d18-2364cd81bd0f .legends .legend:hover text{fill:rgba(0,0,0,0.9)}#chart-88768646-8dcc-4ac4-8d18-2364cd81bd0f .axis .line{stroke:rgba(0,0,0,0.9)}#chart-88768646-8dcc-4ac4-8d18-2364cd81bd0f .axis .guide.line{stroke:rgba(0,0,0,0.5)}#chart-88768646-8dcc-4ac4-8d18-2364cd81bd0f .axis .major.line{stroke:rgba(0,0,0,0.9)}#chart-88768646-8dcc-4ac4-8d18-2364cd81bd0f .axis text.major{fill:rgba(0,0,0,0.9)}#chart-88768646-8dcc-4ac4-8d18-2364cd81bd0f .axis.y .guides:hover .guide.line,#chart-88768646-8dcc-4ac4-8d18-2364cd81bd0f .line-graph .axis.x .guides:hover .guide.line,#chart-88768646-8dcc-4ac4-8d18-2364cd81bd0f .stackedline-graph .axis.x .guides:hover .guide.line,#chart-88768646-8dcc-4ac4-8d18-2364cd81bd0f .xy-graph .axis.x .guides:hover .guide.line{stroke:rgba(0,0,0,0.9)}#chart-88768646-8dcc-4ac4-8d18-2364cd81bd0f .axis .guides:hover text{fill:rgba(0,0,0,0.9)}#chart-88768646-8dcc-4ac4-8d18-2364cd81bd0f .reactive{fill-opacity:.6;stroke-opacity:.8}#chart-88768646-8dcc-4ac4-8d18-2364cd81bd0f .ci{stroke:rgba(0,0,0,0.9)}#chart-88768646-8dcc-4ac4-8d18-2364cd81bd0f .reactive.active,#chart-88768646-8dcc-4ac4-8d18-2364cd81bd0f .active .reactive{fill-opacity:.9;stroke-opacity:.9;stroke-width:4}#chart-88768646-8dcc-4ac4-8d18-2364cd81bd0f .ci .reactive.active{stroke-width:1.5}#chart-88768646-8dcc-4ac4-8d18-2364cd81bd0f .series text{fill:rgba(0,0,0,0.9)}#chart-88768646-8dcc-4ac4-8d18-2364cd81bd0f .tooltip rect{fill:#ffffff;stroke:rgba(0,0,0,0.9);-webkit-transition:opacity 150ms;-moz-transition:opacity 150ms;transition:opacity 150ms}#chart-88768646-8dcc-4ac4-8d18-2364cd81bd0f .tooltip .label{fill:rgba(0,0,0,0.9)}#chart-88768646-8dcc-4ac4-8d18-2364cd81bd0f .tooltip .label{fill:rgba(0,0,0,0.9)}#chart-88768646-8dcc-4ac4-8d18-2364cd81bd0f .tooltip .legend{font-size:.8em;fill:rgba(0,0,0,0.5)}#chart-88768646-8dcc-4ac4-8d18-2364cd81bd0f .tooltip .x_label{font-size:.6em;fill:rgba(0,0,0,0.9)}#chart-88768646-8dcc-4ac4-8d18-2364cd81bd0f .tooltip .xlink{font-size:.5em;text-decoration:underline}#chart-88768646-8dcc-4ac4-8d18-2364cd81bd0f .tooltip .value{font-size:1.5em}#chart-88768646-8dcc-4ac4-8d18-2364cd81bd0f .bound{font-size:.5em}#chart-88768646-8dcc-4ac4-8d18-2364cd81bd0f .max-value{font-size:.75em;fill:rgba(0,0,0,0.5)}#chart-88768646-8dcc-4ac4-8d18-2364cd81bd0f .map-element{fill:#ffffff;stroke:rgba(0,0,0,0.5) !important}#chart-88768646-8dcc-4ac4-8d18-2364cd81bd0f .map-element .reactive{fill-opacity:inherit;stroke-opacity:inherit}#chart-88768646-8dcc-4ac4-8d18-2364cd81bd0f .color-0,#chart-88768646-8dcc-4ac4-8d18-2364cd81bd0f .color-0 a:visited{stroke:#d94e4c;fill:#d94e4c}#chart-88768646-8dcc-4ac4-8d18-2364cd81bd0f .color-1,#chart-88768646-8dcc-4ac4-8d18-2364cd81bd0f .color-1 a:visited{stroke:#e5884f;fill:#e5884f}#chart-88768646-8dcc-4ac4-8d18-2364cd81bd0f .color-2,#chart-88768646-8dcc-4ac4-8d18-2364cd81bd0f .color-2 a:visited{stroke:#39929a;fill:#39929a}#chart-88768646-8dcc-4ac4-8d18-2364cd81bd0f .color-3,#chart-88768646-8dcc-4ac4-8d18-2364cd81bd0f .color-3 a:visited{stroke:#e27876;fill:#e27876}#chart-88768646-8dcc-4ac4-8d18-2364cd81bd0f .color-4,#chart-88768646-8dcc-4ac4-8d18-2364cd81bd0f .color-4 a:visited{stroke:#245d62;fill:#245d62}#chart-88768646-8dcc-4ac4-8d18-2364cd81bd0f .color-5,#chart-88768646-8dcc-4ac4-8d18-2364cd81bd0f .color-5 a:visited{stroke:#f0bb9b;fill:#f0bb9b}#chart-88768646-8dcc-4ac4-8d18-2364cd81bd0f .color-6,#chart-88768646-8dcc-4ac4-8d18-2364cd81bd0f .color-6 a:visited{stroke:#c82d2a;fill:#c82d2a}#chart-88768646-8dcc-4ac4-8d18-2364cd81bd0f .color-7,#chart-88768646-8dcc-4ac4-8d18-2364cd81bd0f .color-7 a:visited{stroke:#234547;fill:#234547}#chart-88768646-8dcc-4ac4-8d18-2364cd81bd0f .color-8,#chart-88768646-8dcc-4ac4-8d18-2364cd81bd0f .color-8 a:visited{stroke:#671716;fill:#671716}#chart-88768646-8dcc-4ac4-8d18-2364cd81bd0f .text-overlay .color-0 text{fill:black}#chart-88768646-8dcc-4ac4-8d18-2364cd81bd0f .text-overlay .color-1 text{fill:black}#chart-88768646-8dcc-4ac4-8d18-2364cd81bd0f .text-overlay .color-2 text{fill:black}#chart-88768646-8dcc-4ac4-8d18-2364cd81bd0f .text-overlay .color-3 text{fill:black}#chart-88768646-8dcc-4ac4-8d18-2364cd81bd0f .text-overlay .color-4 text{fill:black}#chart-88768646-8dcc-4ac4-8d18-2364cd81bd0f .text-overlay .color-5 text{fill:black}#chart-88768646-8dcc-4ac4-8d18-2364cd81bd0f .text-overlay .color-6 text{fill:black}#chart-88768646-8dcc-4ac4-8d18-2364cd81bd0f .text-overlay .color-7 text{fill:black}#chart-88768646-8dcc-4ac4-8d18-2364cd81bd0f .text-overlay .color-8 text{fill:black}\n",
       "#chart-88768646-8dcc-4ac4-8d18-2364cd81bd0f text.no_data{text-anchor:middle}#chart-88768646-8dcc-4ac4-8d18-2364cd81bd0f .guide.line{fill:none}#chart-88768646-8dcc-4ac4-8d18-2364cd81bd0f .centered{text-anchor:middle}#chart-88768646-8dcc-4ac4-8d18-2364cd81bd0f .title{text-anchor:middle}#chart-88768646-8dcc-4ac4-8d18-2364cd81bd0f .legends .legend text{fill-opacity:1}#chart-88768646-8dcc-4ac4-8d18-2364cd81bd0f .axis.x text{text-anchor:middle}#chart-88768646-8dcc-4ac4-8d18-2364cd81bd0f .axis.x:not(.web) text[transform]{text-anchor:start}#chart-88768646-8dcc-4ac4-8d18-2364cd81bd0f .axis.x:not(.web) text[transform].backwards{text-anchor:end}#chart-88768646-8dcc-4ac4-8d18-2364cd81bd0f .axis.y text{text-anchor:end}#chart-88768646-8dcc-4ac4-8d18-2364cd81bd0f .axis.y text[transform].backwards{text-anchor:start}#chart-88768646-8dcc-4ac4-8d18-2364cd81bd0f .axis.y2 text{text-anchor:start}#chart-88768646-8dcc-4ac4-8d18-2364cd81bd0f .axis.y2 text[transform].backwards{text-anchor:end}#chart-88768646-8dcc-4ac4-8d18-2364cd81bd0f .axis .guide.line{stroke-dasharray:4,4}#chart-88768646-8dcc-4ac4-8d18-2364cd81bd0f .axis .major.guide.line{stroke-dasharray:6,6}#chart-88768646-8dcc-4ac4-8d18-2364cd81bd0f .horizontal .axis.y .guide.line,#chart-88768646-8dcc-4ac4-8d18-2364cd81bd0f .horizontal .axis.y2 .guide.line,#chart-88768646-8dcc-4ac4-8d18-2364cd81bd0f .vertical .axis.x .guide.line{opacity:0}#chart-88768646-8dcc-4ac4-8d18-2364cd81bd0f .horizontal .axis.always_show .guide.line,#chart-88768646-8dcc-4ac4-8d18-2364cd81bd0f .vertical .axis.always_show .guide.line{opacity:1 !important}#chart-88768646-8dcc-4ac4-8d18-2364cd81bd0f .axis.y .guides:hover .guide.line,#chart-88768646-8dcc-4ac4-8d18-2364cd81bd0f .axis.y2 .guides:hover .guide.line,#chart-88768646-8dcc-4ac4-8d18-2364cd81bd0f .axis.x .guides:hover .guide.line{opacity:1}#chart-88768646-8dcc-4ac4-8d18-2364cd81bd0f .axis .guides:hover text{opacity:1}#chart-88768646-8dcc-4ac4-8d18-2364cd81bd0f .nofill{fill:none}#chart-88768646-8dcc-4ac4-8d18-2364cd81bd0f .subtle-fill{fill-opacity:.2}#chart-88768646-8dcc-4ac4-8d18-2364cd81bd0f .dot{stroke-width:1px;fill-opacity:1}#chart-88768646-8dcc-4ac4-8d18-2364cd81bd0f .dot.active{stroke-width:5px}#chart-88768646-8dcc-4ac4-8d18-2364cd81bd0f .dot.negative{fill:transparent}#chart-88768646-8dcc-4ac4-8d18-2364cd81bd0f text,#chart-88768646-8dcc-4ac4-8d18-2364cd81bd0f tspan{stroke:none !important}#chart-88768646-8dcc-4ac4-8d18-2364cd81bd0f .series text.active{opacity:1}#chart-88768646-8dcc-4ac4-8d18-2364cd81bd0f .tooltip rect{fill-opacity:.95;stroke-width:.5}#chart-88768646-8dcc-4ac4-8d18-2364cd81bd0f .tooltip text{fill-opacity:1}#chart-88768646-8dcc-4ac4-8d18-2364cd81bd0f .showable{visibility:hidden}#chart-88768646-8dcc-4ac4-8d18-2364cd81bd0f .showable.shown{visibility:visible}#chart-88768646-8dcc-4ac4-8d18-2364cd81bd0f .gauge-background{fill:rgba(229,229,229,1);stroke:none}#chart-88768646-8dcc-4ac4-8d18-2364cd81bd0f .bg-lines{stroke:#f9f9fa;stroke-width:2px}</style><script type=\"text/javascript\">window.pygal = window.pygal || {};window.pygal.config = window.pygal.config || {};window.pygal.config['88768646-8dcc-4ac4-8d18-2364cd81bd0f'] = {\"allow_interruptions\": false, \"box_mode\": \"extremes\", \"classes\": [\"pygal-chart\"], \"css\": [\"file://style.css\", \"file://graph.css\"], \"defs\": [], \"disable_xml_declaration\": false, \"dots_size\": 2.5, \"dynamic_print_values\": false, \"explicit_size\": false, \"fill\": false, \"force_uri_protocol\": \"https\", \"formatter\": null, \"half_pie\": false, \"height\": 500, \"include_x_axis\": false, \"inner_radius\": 0, \"interpolate\": null, \"interpolation_parameters\": {}, \"interpolation_precision\": 250, \"inverse_y_axis\": false, \"js\": [\"//kozea.github.io/pygal.js/2.0.x/pygal-tooltips.min.js\"], \"legend_at_bottom\": true, \"legend_at_bottom_columns\": null, \"legend_box_size\": 12, \"logarithmic\": false, \"margin\": 20, \"margin_bottom\": null, \"margin_left\": null, \"margin_right\": null, \"margin_top\": null, \"max_scale\": 16, \"min_scale\": 4, \"missing_value_fill_truncation\": \"x\", \"no_data_text\": \"No data\", \"no_prefix\": false, \"order_min\": null, \"pretty_print\": false, \"print_labels\": false, \"print_values\": false, \"print_values_position\": \"center\", \"print_zeroes\": true, \"range\": null, \"rounded_bars\": null, \"secondary_range\": null, \"show_dots\": true, \"show_legend\": true, \"show_minor_x_labels\": true, \"show_minor_y_labels\": true, \"show_only_major_dots\": false, \"show_x_guides\": false, \"show_x_labels\": true, \"show_y_guides\": true, \"show_y_labels\": true, \"spacing\": 10, \"stack_from_top\": false, \"strict\": false, \"stroke\": true, \"stroke_style\": null, \"style\": {\"background\": \"#f9f9fa\", \"ci_colors\": [], \"colors\": [\"#d94e4c\", \"#e5884f\", \"#39929a\", \"#e27876\", \"#245d62\", \"#f0bb9b\", \"#c82d2a\", \"#234547\"], \"font_family\": \"Consolas, \\\"Liberation Mono\\\", Menlo, Courier, monospace\", \"foreground\": \"rgba(0, 0, 0, 0.9)\", \"foreground_strong\": \"rgba(0, 0, 0, 0.9)\", \"foreground_subtle\": \"rgba(0, 0, 0, 0.5)\", \"guide_stroke_dasharray\": \"4,4\", \"label_font_family\": \"Consolas, \\\"Liberation Mono\\\", Menlo, Courier, monospace\", \"label_font_size\": 10, \"legend_font_family\": \"Consolas, \\\"Liberation Mono\\\", Menlo, Courier, monospace\", \"legend_font_size\": 14, \"major_guide_stroke_dasharray\": \"6,6\", \"major_label_font_family\": \"Consolas, \\\"Liberation Mono\\\", Menlo, Courier, monospace\", \"major_label_font_size\": 10, \"no_data_font_family\": \"Consolas, \\\"Liberation Mono\\\", Menlo, Courier, monospace\", \"no_data_font_size\": 64, \"opacity\": \".6\", \"opacity_hover\": \".9\", \"plot_background\": \"#ffffff\", \"stroke_opacity\": \".8\", \"stroke_opacity_hover\": \".9\", \"title_font_family\": \"Consolas, \\\"Liberation Mono\\\", Menlo, Courier, monospace\", \"title_font_size\": 16, \"tooltip_font_family\": \"Consolas, \\\"Liberation Mono\\\", Menlo, Courier, monospace\", \"tooltip_font_size\": 14, \"transition\": \"150ms\", \"value_background\": \"rgba(229, 229, 229, 1)\", \"value_colors\": [], \"value_font_family\": \"Consolas, \\\"Liberation Mono\\\", Menlo, Courier, monospace\", \"value_font_size\": 16, \"value_label_font_family\": \"Consolas, \\\"Liberation Mono\\\", Menlo, Courier, monospace\", \"value_label_font_size\": 10}, \"title\": \"Top Directors with High Movie Rating\", \"tooltip_border_radius\": 0, \"tooltip_fancy_mode\": true, \"truncate_label\": null, \"truncate_legend\": null, \"width\": 600, \"x_label_rotation\": 0, \"x_labels\": null, \"x_labels_major\": null, \"x_labels_major_count\": null, \"x_labels_major_every\": null, \"x_title\": null, \"xrange\": null, \"y_label_rotation\": 0, \"y_labels\": null, \"y_labels_major\": null, \"y_labels_major_count\": null, \"y_labels_major_every\": null, \"y_title\": null, \"zero\": 0, \"legends\": [\"Amudhavan Karuppiah, Anjana Krishnakumar, Ram\", \"Tim Gagliardo, Donavon Warren\", \"Ezra Edelman\", \"Christopher Nolan\", \"Anthony Russo, Joe Russo\", \"C. Prem Kumar\", \"Aditya Dhar\", \"Sukumar\", \"Nitesh Tiwari\"]}</script><script type=\"text/javascript\" xlink:href=\"https://kozea.github.io/pygal.js/2.0.x/pygal-tooltips.min.js\"/></defs><title>Top Directors with High Movie Rating</title><g class=\"graph bar-graph vertical\"><rect x=\"0\" y=\"0\" width=\"600\" height=\"500\" class=\"background\"/><g transform=\"translate(40, 46)\" class=\"plot\"><rect x=\"0\" y=\"0\" width=\"540\" height=\"368.0\" class=\"background\"/><g class=\"axis y always_show\"><g class=\"guides\"><path d=\"M0.000000 360.923077 h540.000000\" class=\"axis major line\"/><text x=\"-5\" y=\"364.4230769230769\" class=\"major\">0</text><title>0</title></g><g class=\"guides\"><path d=\"M0.000000 323.279869 h540.000000\" class=\"guide line\"/><text x=\"-5\" y=\"326.7798690671031\" class=\"\">1</text><title>1</title></g><g class=\"guides\"><path d=\"M0.000000 285.636661 h540.000000\" class=\"guide line\"/><text x=\"-5\" y=\"289.1366612111293\" class=\"\">2</text><title>2</title></g><g class=\"guides\"><path d=\"M0.000000 247.993453 h540.000000\" class=\"guide line\"/><text x=\"-5\" y=\"251.4934533551555\" class=\"\">3</text><title>3</title></g><g class=\"guides\"><path d=\"M0.000000 210.350245 h540.000000\" class=\"guide line\"/><text x=\"-5\" y=\"213.8502454991817\" class=\"\">4</text><title>4</title></g><g class=\"guides\"><path d=\"M0.000000 172.707038 h540.000000\" class=\"major guide line\"/><text x=\"-5\" y=\"176.20703764320788\" class=\"major\">5</text><title>5</title></g><g class=\"guides\"><path d=\"M0.000000 135.063830 h540.000000\" class=\"guide line\"/><text x=\"-5\" y=\"138.5638297872341\" class=\"\">6</text><title>6</title></g><g class=\"guides\"><path d=\"M0.000000 97.420622 h540.000000\" class=\"guide line\"/><text x=\"-5\" y=\"100.92062193126031\" class=\"\">7</text><title>7</title></g><g class=\"guides\"><path d=\"M0.000000 59.777414 h540.000000\" class=\"guide line\"/><text x=\"-5\" y=\"63.27741407528646\" class=\"\">8</text><title>8</title></g><g class=\"guides\"><path d=\"M0.000000 22.134206 h540.000000\" class=\"guide line\"/><text x=\"-5\" y=\"25.63420621931266\" class=\"\">9</text><title>9</title></g></g><g class=\"series serie-0 color-0\"><g class=\"bars\"><g class=\"bar\"><rect x=\"44.584615384615375\" y=\"7.076923076923094\" rx=\"0\" ry=\"0\" width=\"44.67692307692307\" height=\"353.8461538461538\" class=\"rect reactive tooltip-trigger\"/><desc class=\"value\">9.4</desc><desc class=\"x centered\">66.9230769230769</desc><desc class=\"y centered\">184.0</desc></g></g></g><g class=\"series serie-1 color-1\"><g class=\"bars\"><g class=\"bar\"><rect x=\"95.35384615384613\" y=\"10.841243862520514\" rx=\"0\" ry=\"0\" width=\"44.67692307692307\" height=\"350.0818330605564\" class=\"rect reactive tooltip-trigger\"/><desc class=\"value\">9.3</desc><desc class=\"x centered\">117.69230769230766</desc><desc class=\"y centered\">185.8821603927987</desc></g></g></g><g class=\"series serie-2 color-2\"><g class=\"bars\"><g class=\"bar\"><rect x=\"146.1230769230769\" y=\"25.898527004909965\" rx=\"0\" ry=\"0\" width=\"44.67692307692307\" height=\"335.02454991816694\" class=\"rect reactive tooltip-trigger\"/><desc class=\"value\">8.9</desc><desc class=\"x centered\">168.46153846153842</desc><desc class=\"y centered\">193.41080196399344</desc></g></g></g><g class=\"series serie-3 color-3\"><g class=\"bars\"><g class=\"bar\"><rect x=\"196.89230769230767\" y=\"29.662847790507385\" rx=\"0\" ry=\"0\" width=\"44.67692307692307\" height=\"331.2602291325695\" class=\"rect reactive tooltip-trigger\"/><desc class=\"value\">8.8</desc><desc class=\"x centered\">219.2307692307692</desc><desc class=\"y centered\">195.29296235679215</desc></g></g></g><g class=\"series serie-4 color-4\"><g class=\"bars\"><g class=\"bar\"><rect x=\"247.66153846153844\" y=\"29.662847790507385\" rx=\"0\" ry=\"0\" width=\"44.67692307692307\" height=\"331.2602291325695\" class=\"rect reactive tooltip-trigger\"/><desc class=\"value\">8.8</desc><desc class=\"x centered\">270.0</desc><desc class=\"y centered\">195.29296235679215</desc></g></g></g><g class=\"series serie-5 color-5\"><g class=\"bars\"><g class=\"bar\"><rect x=\"298.4307692307692\" y=\"29.662847790507385\" rx=\"0\" ry=\"0\" width=\"44.67692307692307\" height=\"331.2602291325695\" class=\"rect reactive tooltip-trigger\"/><desc class=\"value\">8.8</desc><desc class=\"x centered\">320.7692307692308</desc><desc class=\"y centered\">195.29296235679215</desc></g></g></g><g class=\"series serie-6 color-6\"><g class=\"bars\"><g class=\"bar\"><rect x=\"349.19999999999993\" y=\"37.19148936170217\" rx=\"0\" ry=\"0\" width=\"44.67692307692307\" height=\"323.73158756137474\" class=\"rect reactive tooltip-trigger\"/><desc class=\"value\">8.6</desc><desc class=\"x centered\">371.5384615384615</desc><desc class=\"y centered\">199.05728314238954</desc></g></g></g><g class=\"series serie-7 color-7\"><g class=\"bars\"><g class=\"bar\"><rect x=\"399.9692307692307\" y=\"37.19148936170217\" rx=\"0\" ry=\"0\" width=\"44.67692307692307\" height=\"323.73158756137474\" class=\"rect reactive tooltip-trigger\"/><desc class=\"value\">8.6</desc><desc class=\"x centered\">422.30769230769226</desc><desc class=\"y centered\">199.05728314238954</desc></g></g></g><g class=\"series serie-8 color-8\"><g class=\"bars\"><g class=\"bar\"><rect x=\"450.7384615384615\" y=\"40.95581014729953\" rx=\"0\" ry=\"0\" width=\"44.67692307692307\" height=\"319.9672667757774\" class=\"rect reactive tooltip-trigger\"/><desc class=\"value\">8.5</desc><desc class=\"x centered\">473.07692307692304</desc><desc class=\"y centered\">200.93944353518822</desc></g></g></g></g><g class=\"titles\"><text x=\"300.0\" y=\"26\" class=\"title plot_title\">Top Directors with High Movie Rating</text></g><g transform=\"translate(40, 46)\" class=\"plot overlay\"><g class=\"series serie-0 color-0\"/><g class=\"series serie-1 color-1\"/><g class=\"series serie-2 color-2\"/><g class=\"series serie-3 color-3\"/><g class=\"series serie-4 color-4\"/><g class=\"series serie-5 color-5\"/><g class=\"series serie-6 color-6\"/><g class=\"series serie-7 color-7\"/><g class=\"series serie-8 color-8\"/></g><g transform=\"translate(40, 46)\" class=\"plot text-overlay\"><g class=\"series serie-0 color-0\"/><g class=\"series serie-1 color-1\"/><g class=\"series serie-2 color-2\"/><g class=\"series serie-3 color-3\"/><g class=\"series serie-4 color-4\"/><g class=\"series serie-5 color-5\"/><g class=\"series serie-6 color-6\"/><g class=\"series serie-7 color-7\"/><g class=\"series serie-8 color-8\"/></g><g transform=\"translate(40, 46)\" class=\"plot tooltip-overlay\"><g transform=\"translate(0 0)\" style=\"opacity: 0\" class=\"tooltip\"><rect rx=\"0\" ry=\"0\" width=\"0\" height=\"0\" class=\"tooltip-box\"/><g class=\"text\"/></g></g><g transform=\"translate(50, 424)\" class=\"legends\"><g id=\"activate-serie-0\" class=\"legend reactive activate-serie\"><rect x=\"0.0\" y=\"1.0\" width=\"12\" height=\"12\" class=\"color-0 reactive\"/><text x=\"17.0\" y=\"11.2\">Amudhavan Karuppia…</text><title>Amudhavan Karuppiah, Anjana Krishnakumar, Ram</title></g><g id=\"activate-serie-1\" class=\"legend reactive activate-serie\"><rect x=\"180.0\" y=\"1.0\" width=\"12\" height=\"12\" class=\"color-1 reactive\"/><text x=\"197.0\" y=\"11.2\">Tim Gagliardo, Don…</text><title>Tim Gagliardo, Donavon Warren</title></g><g id=\"activate-serie-2\" class=\"legend reactive activate-serie\"><rect x=\"360.0\" y=\"1.0\" width=\"12\" height=\"12\" class=\"color-2 reactive\"/><text x=\"377.0\" y=\"11.2\">Ezra Edelman</text></g><g id=\"activate-serie-3\" class=\"legend reactive activate-serie\"><rect x=\"0.0\" y=\"22.0\" width=\"12\" height=\"12\" class=\"color-3 reactive\"/><text x=\"17.0\" y=\"32.2\">Christopher Nolan</text></g><g id=\"activate-serie-4\" class=\"legend reactive activate-serie\"><rect x=\"180.0\" y=\"22.0\" width=\"12\" height=\"12\" class=\"color-4 reactive\"/><text x=\"197.0\" y=\"32.2\">Anthony Russo, Joe…</text><title>Anthony Russo, Joe Russo</title></g><g id=\"activate-serie-5\" class=\"legend reactive activate-serie\"><rect x=\"360.0\" y=\"22.0\" width=\"12\" height=\"12\" class=\"color-5 reactive\"/><text x=\"377.0\" y=\"32.2\">C. Prem Kumar</text></g><g id=\"activate-serie-6\" class=\"legend reactive activate-serie\"><rect x=\"0.0\" y=\"43.0\" width=\"12\" height=\"12\" class=\"color-6 reactive\"/><text x=\"17.0\" y=\"53.2\">Aditya Dhar</text></g><g id=\"activate-serie-7\" class=\"legend reactive activate-serie\"><rect x=\"180.0\" y=\"43.0\" width=\"12\" height=\"12\" class=\"color-7 reactive\"/><text x=\"197.0\" y=\"53.2\">Sukumar</text></g><g id=\"activate-serie-8\" class=\"legend reactive activate-serie\"><rect x=\"360.0\" y=\"43.0\" width=\"12\" height=\"12\" class=\"color-8 reactive\"/><text x=\"377.0\" y=\"53.2\">Nitesh Tiwari</text></g></g></g></svg>\n",
       "    </figure>\n",
       "  </body>\n",
       "</html>\n"
      ],
      "text/plain": [
       "<IPython.core.display.HTML object>"
      ]
     },
     "metadata": {},
     "output_type": "display_data"
    }
   ],
   "source": [
    "bar_chart = pygal.Bar(style=RedBlueStyle, width=600, height=500, legend_at_bottom=True, human_readable=True,\n",
    "                      title='Top Directors with High Movie Rating')\n",
    "\n",
    "for index, row in df.iterrows():\n",
    "    bar_chart.add(row[\"dirname_str\"], row[\"averagerating\"])\n",
    "\n",
    "galplot(bar_chart)"
   ]
  },
  {
   "cell_type": "markdown",
   "metadata": {},
   "source": [
    "# Movie Release Season "
   ]
  },
  {
   "cell_type": "markdown",
   "metadata": {},
   "source": [
    "**Import the dataset**"
   ]
  },
  {
   "cell_type": "code",
   "execution_count": 54,
   "metadata": {},
   "outputs": [],
   "source": [
    "budgets = pd.read_csv('zippedData/tn.movie_budgets.csv.gz', compression='gzip', error_bad_lines=False)"
   ]
  },
  {
   "cell_type": "markdown",
   "metadata": {},
   "source": [
    "**Fixing string formatted number, and convert it to float** "
   ]
  },
  {
   "cell_type": "code",
   "execution_count": 55,
   "metadata": {},
   "outputs": [],
   "source": [
    "budgets[budgets.columns[3:]] = budgets[budgets.columns[3:]].replace('[\\$,]', '', regex=True).astype(float)"
   ]
  },
  {
   "cell_type": "markdown",
   "metadata": {},
   "source": [
    "**Create a column for net profit**"
   ]
  },
  {
   "cell_type": "code",
   "execution_count": 56,
   "metadata": {},
   "outputs": [],
   "source": [
    "budgets['total_revenue'] = (budgets['worldwide_gross'] + budgets['domestic_gross'])\n",
    "budgets['net_profit'] = budgets['total_revenue'] - budgets['production_budget']"
   ]
  },
  {
   "cell_type": "markdown",
   "metadata": {},
   "source": [
    "**Group months into seasons**"
   ]
  },
  {
   "cell_type": "code",
   "execution_count": 57,
   "metadata": {},
   "outputs": [],
   "source": [
    "budgets['month'] = budgets['release_date'].map(lambda x: x[:3])"
   ]
  },
  {
   "cell_type": "code",
   "execution_count": 58,
   "metadata": {},
   "outputs": [],
   "source": [
    "def seasonMe(month):\n",
    "    if (month == 'Dec' or month == 'Jan' or month == 'Feb'):\n",
    "        return \"Winter\"\n",
    "    elif (month == 'Mar' or month == 'Apr' or month == 'May'):\n",
    "        return \"Spring\"\n",
    "    elif (month == 'Jun' or month == 'Jul' or month == 'Aug'):\n",
    "        return \"Summer\"\n",
    "    else:\n",
    "        return \"Fall\""
   ]
  },
  {
   "cell_type": "code",
   "execution_count": 59,
   "metadata": {},
   "outputs": [],
   "source": [
    "budgets['season'] = budgets['month'].map(seasonMe)"
   ]
  },
  {
   "cell_type": "markdown",
   "metadata": {},
   "source": [
    "**We're only interested in big movies (production cost is above its mean or ~$31,587,757)**"
   ]
  },
  {
   "cell_type": "code",
   "execution_count": 60,
   "metadata": {},
   "outputs": [
    {
     "data": {
      "text/plain": [
       "31587757.0965064"
      ]
     },
     "execution_count": 60,
     "metadata": {},
     "output_type": "execute_result"
    }
   ],
   "source": [
    "cutoff = budgets['production_budget'].mean()\n",
    "cutoff"
   ]
  },
  {
   "cell_type": "code",
   "execution_count": 61,
   "metadata": {},
   "outputs": [],
   "source": [
    "working_budget = budgets[budgets['production_budget'] >= cutoff]"
   ]
  },
  {
   "cell_type": "markdown",
   "metadata": {},
   "source": [
    "**Calculate mean and std deviation of each season**"
   ]
  },
  {
   "cell_type": "code",
   "execution_count": 62,
   "metadata": {},
   "outputs": [],
   "source": [
    "summer = working_budget['net_profit'][working_budget['season'] == 'Summer'].mean()\n",
    "spring = working_budget['net_profit'][working_budget['season'] == 'Spring'].mean()\n",
    "fall = working_budget['net_profit'][working_budget['season'] == 'Fall'].mean()\n",
    "winter = working_budget['net_profit'][working_budget['season'] == 'Winter'].mean()\n",
    "\n",
    "summer_std = working_budget['net_profit'][working_budget['season'] == 'Summer'].std()\n",
    "spring_std = working_budget['net_profit'][working_budget['season'] == 'Spring'].std()\n",
    "fall_std = working_budget['net_profit'][working_budget['season'] == 'Fall'].std()\n",
    "winter_std = working_budget['net_profit'][working_budget['season'] == 'Winter'].std()"
   ]
  },
  {
   "cell_type": "markdown",
   "metadata": {},
   "source": [
    "**Visualization**"
   ]
  },
  {
   "cell_type": "code",
   "execution_count": 63,
   "metadata": {},
   "outputs": [],
   "source": [
    "labels = ['Summer', 'Spring', 'Fall', 'Winter']\n",
    "x = np.arange(len(labels))\n",
    "season_net = [summer, spring, fall, winter]\n",
    "season_std = [summer_std, spring_std, fall_std, winter_std]"
   ]
  },
  {
   "cell_type": "code",
   "execution_count": 108,
   "metadata": {},
   "outputs": [
    {
     "data": {
      "text/plain": [
       "Text(0.5, 0, 'Season')"
      ]
     },
     "execution_count": 108,
     "metadata": {},
     "output_type": "execute_result"
    },
    {
     "data": {
      "image/png": "[encoded data removed]",
      "text/plain": [
       "<Figure size 432x288 with 1 Axes>"
      ]
     },
     "metadata": {
      "needs_background": "light"
     },
     "output_type": "display_data"
    }
   ],
   "source": [
    "fig, ax = plt.subplots()\n",
    "\n",
    "ax.bar(x, season_net, yerr=season_std, align='center', alpha=0.5, ecolor='green', capsize=10)\n",
    "\n",
    "fmt = '${x:,.0f}'\n",
    "tick = mtick.StrMethodFormatter(fmt)\n",
    "ax.yaxis.set_major_formatter(tick)\n",
    "\n",
    "ax.set_ylabel('Net Profit per Movie')\n",
    "ax.set_xticks(x)\n",
    "ax.set_xticklabels(labels)\n",
    "ax.set_title(\"Average Net Profit by Season\")\n",
    "ax.yaxis.grid(True)\n",
    "ax.set_xlabel('Season')"
   ]
  },
  {
   "cell_type": "markdown",
   "metadata": {},
   "source": [
    "**Option for this visualization**"
   ]
  },
  {
   "cell_type": "code",
   "execution_count": 118,
   "metadata": {},
   "outputs": [
    {
     "data": {
      "text/plain": [
       "Text(0.5, 0, 'Season')"
      ]
     },
     "execution_count": 118,
     "metadata": {},
     "output_type": "execute_result"
    },
    {
     "data": {
      "image/png": "[encoded data removed]",
      "text/plain": [
       "<Figure size 432x288 with 1 Axes>"
      ]
     },
     "metadata": {
      "needs_background": "light"
     },
     "output_type": "display_data"
    }
   ],
   "source": [
    "fig, ax = plt.subplots()\n",
    "\n",
    "ax.errorbar(x, season_net, yerr=season_std, fmt='o' )\n",
    "\n",
    "fmt = '${x:,.0f}'\n",
    "tick = mtick.StrMethodFormatter(fmt)\n",
    "ax.yaxis.set_major_formatter(tick)\n",
    "\n",
    "\n",
    "ax.set_ylabel('Average Net Profit per Movie')\n",
    "ax.set_xticks(x)\n",
    "ax.set_xticklabels(labels)\n",
    "ax.set_title(\"Net Profit by Season\")\n",
    "ax.yaxis.grid(True)\n",
    "ax.set_xlabel('Season')"
   ]
  },
  {
   "cell_type": "code",
   "execution_count": null,
   "metadata": {},
   "outputs": [],
   "source": []
  }
 ],
 "metadata": {
  "kernelspec": {
   "display_name": "Python (learn-env)",
   "language": "python",
   "name": "learn-env"
  },
  "language_info": {
   "codemirror_mode": {
    "name": "ipython",
    "version": 3
   },
   "file_extension": ".py",
   "mimetype": "text/x-python",
   "name": "python",
   "nbconvert_exporter": "python",
   "pygments_lexer": "ipython3",
   "version": "3.8.5"
  }
 },
 "nbformat": 4,
 "nbformat_minor": 4
}
